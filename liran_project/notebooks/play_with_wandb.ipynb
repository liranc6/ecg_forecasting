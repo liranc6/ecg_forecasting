{
 "cells": [
  {
   "cell_type": "code",
   "execution_count": 4,
   "metadata": {},
   "outputs": [
    {
     "ename": "ModuleNotFoundError",
     "evalue": "No module named 'liran_project'",
     "output_type": "error",
     "traceback": [
      "\u001b[0;31m---------------------------------------------------------------------------\u001b[0m",
      "\u001b[0;31mModuleNotFoundError\u001b[0m                       Traceback (most recent call last)",
      "Cell \u001b[0;32mIn[4], line 20\u001b[0m\n\u001b[1;32m     17\u001b[0m ProjectPath \u001b[38;5;241m=\u001b[39m \u001b[38;5;124m\"\u001b[39m\u001b[38;5;124m/home/liranc6/ecg/ecg_forecasting\u001b[39m\u001b[38;5;124m\"\u001b[39m \u001b[38;5;66;03m#os.path.dirname(os.path.dirname(os.path.abspath(os.getcwd())))\u001b[39;00m\n\u001b[1;32m     18\u001b[0m sys\u001b[38;5;241m.\u001b[39mpath\u001b[38;5;241m.\u001b[39mappend(ProjectPath)  \u001b[38;5;66;03m# Add the parent directory to the sys.path\u001b[39;00m\n\u001b[0;32m---> 20\u001b[0m \u001b[38;5;28;01mimport\u001b[39;00m \u001b[38;5;21;01mliran_project\u001b[39;00m\u001b[38;5;21;01m.\u001b[39;00m\u001b[38;5;21;01mutils\u001b[39;00m\u001b[38;5;21;01m.\u001b[39;00m\u001b[38;5;21;01mdataset_loader\u001b[39;00m \u001b[38;5;28;01mas\u001b[39;00m \u001b[38;5;21;01mdataset_loader\u001b[39;00m\n\u001b[1;32m     22\u001b[0m \u001b[38;5;66;03m# import liran_project.train as liran_train\u001b[39;00m\n\u001b[1;32m     23\u001b[0m \u001b[38;5;28;01mfrom\u001b[39;00m \u001b[38;5;21;01mliran_project\u001b[39;00m\u001b[38;5;21;01m.\u001b[39;00m\u001b[38;5;21;01mutils\u001b[39;00m\u001b[38;5;21;01m.\u001b[39;00m\u001b[38;5;21;01mdataset_loader\u001b[39;00m \u001b[38;5;28;01mimport\u001b[39;00m SingleLeadECGDatasetCrops\n",
      "\u001b[0;31mModuleNotFoundError\u001b[0m: No module named 'liran_project'"
     ]
    }
   ],
   "source": [
    "import os\n",
    "import json\n",
    "import torch\n",
    "import torch.nn as nn\n",
    "from torch.utils.data import DataLoader\n",
    "import time\n",
    "from datetime import timedelta\n",
    "import h5py\n",
    "from tqdm import tqdm\n",
    "import argparse\n",
    "import numpy as np\n",
    "import torch.nn.functional as F\n",
    "import matplotlib.pyplot as plt\n",
    "\n",
    "import sys\n",
    "\n",
    "ProjectPath = \"/home/liranc6/ecg/ecg_forecasting\" #os.path.dirname(os.path.dirname(os.path.abspath(os.getcwd())))\n",
    "sys.path.append(ProjectPath)  # Add the parent directory to the sys.path\n",
    "\n",
    "import liran_project.utils.dataset_loader as dataset_loader\n",
    "\n",
    "# import liran_project.train as liran_train\n",
    "from liran_project.utils.dataset_loader import SingleLeadECGDatasetCrops\n",
    "from liran_project.utils.util import modify_z_and_omega\n",
    "\n",
    "sys.path.append('/home/liranc6/ecg/ecg_forecasting/SSSD_main')\n",
    "\n",
    "from SSSD_main.src.utils.util import find_epoch, print_size, sampling, calc_diffusion_hyperparams\n",
    "from SSSD_main.src.utils.util import get_mask_mnr, get_mask_bm, get_mask_rm, get_mask_pred\n",
    "\n",
    "import SSSD_main.src.utils.util as util\n",
    "from SSSD_main.src.imputers.DiffWaveImputer import DiffWaveImputer\n",
    "from SSSD_main.src.imputers.SSSDSAImputer import SSSDSAImputer\n",
    "from SSSD_main.src.imputers.SSSDS4Imputer import SSSDS4Imputer\n",
    "\n",
    "from sklearn.metrics import mean_squared_error\n",
    "from statistics import mean"
   ]
  },
  {
   "cell_type": "code",
   "execution_count": 1,
   "metadata": {},
   "outputs": [],
   "source": [
    "file_path = \\\n",
    "\"/home/liranc6/ecg_forecasting/liran_project/results/icentia11k/SSSDS4/context248_label1248/T200_beta00.0001_betaT0.02/best_model:_iter:_1_loss:_0.9853200713793436.pth\""
   ]
  },
  {
   "cell_type": "code",
   "execution_count": 6,
   "metadata": {},
   "outputs": [
    {
     "name": "stdout",
     "output_type": "stream",
     "text": [
      "dict_keys(['model_state_dict', 'optimizer_state_dict', 'wandb_id'])\n"
     ]
    },
    {
     "data": {
      "text/plain": [
       "'kdnog64l'"
      ]
     },
     "execution_count": 6,
     "metadata": {},
     "output_type": "execute_result"
    }
   ],
   "source": [
    "# open file and get the keys\n",
    "checkpoint = torch.load(file_path, map_location='cpu')\n",
    "print(checkpoint.keys())\n",
    "checkpoint[\"wandb_id\"]"
   ]
  },
  {
   "cell_type": "code",
   "execution_count": 13,
   "metadata": {},
   "outputs": [],
   "source": [
    "dict_path = \\\n",
    "\"/home/liranc6/ecg_forecasting/liran_project/results/icentia11k/SSSDS4/context3748_label2500/T200_beta00.0001_betaT0.02\""
   ]
  },
  {
   "cell_type": "code",
   "execution_count": 14,
   "metadata": {},
   "outputs": [
    {
     "name": "stdout",
     "output_type": "stream",
     "text": [
      "212frl4y\n",
      "4sd0opjk\n"
     ]
    }
   ],
   "source": [
    "import torch\n",
    "\n",
    "for root, dirs, files in os.walk(dict_path):\n",
    "    found = False\n",
    "    for file in files:\n",
    "        if file.endswith(\".pth\"):\n",
    "            file_path = os.path.join(root, file)\n",
    "            model_checkpoint = torch.load(file_path)\n",
    "            if \"wandb_id\" in model_checkpoint:\n",
    "                print(model_checkpoint[\"wandb_id\"])\n",
    "                if model_checkpoint[\"wandb_id\"] == \"f7y4e71z\":\n",
    "                    print(\"found the file\")\n",
    "                    print(file_path)\n",
    "                    found = True\n",
    "                    break\n",
    "                else:\n",
    "                    #skip to next directory\n",
    "                    break\n",
    "                    \n",
    "            else:\n",
    "                print(\"not found\")\n",
    "    if found:\n",
    "        break"
   ]
  }
 ],
 "metadata": {
  "kernelspec": {
   "display_name": "ecg",
   "language": "python",
   "name": "python3"
  },
  "language_info": {
   "codemirror_mode": {
    "name": "ipython",
    "version": 3
   },
   "file_extension": ".py",
   "mimetype": "text/x-python",
   "name": "python",
   "nbconvert_exporter": "python",
   "pygments_lexer": "ipython3",
   "version": "3.10.13"
  }
 },
 "nbformat": 4,
 "nbformat_minor": 2
}
