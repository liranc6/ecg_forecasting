{
 "cells": [
  {
   "cell_type": "markdown",
   "id": "be3220d5c3d12660",
   "metadata": {
    "collapsed": false
   },
   "source": [
    "# Data Preprocessing for ICENTIA11K Dataset\n",
    "\n",
    "After exploring the dataset using the notebook [Explore ICENTIA11K Dataset Notebook](./explore_ICENTIA11K_dataset.ipynb), the next step is to preprocess the data. As a reminder, the main sample/label in the dataset is represented by the `p_signal`, which is in the format of `np.ndarray`.\n",
    "\n",
    "## Preprocessing Steps:\n",
    "\n",
    "1. **Transform to Tensor:**\n",
    "   - Convert the `np.ndarray` samples to tensors.\n",
    "\n",
    "2. **Divide into Features and Labels:**\n",
    "   - Split the tensor into features (X) and labels (y). The initial split ratio will be 9:1.\n",
    "\n",
    "3. **Adjusting Sample Length:**\n",
    "   - To maintain consistency, fix the length of each sample. Split each file into as many examples as possible, ignoring any remainder. It's important to note that this length can be adjusted as a parameter in the script.\n",
    "\n",
    "4. **Saving Data as Tensors:**\n",
    "   - For time efficiency, save the preprocessed data as tensors. This helps in quick loading and further analysis without the need for repetitive preprocessing.\n",
    "\n",
    "### Implementation Details:\n",
    "\n",
    "To implement these steps, refer to the code in this notebook. Additionally, remember that the sample length is a parameter that can be adjusted based on experimentation. It's worth noting that the script will handle the splitting of files into fixed-length examples during runtime, without creating new files.\n",
    "\n",
    "This preprocessing stage ensures that the data is in a suitable format for training machine learning models. Adjusting the sample length allows for flexibility in model training and experimentation.\n",
    "\n"
   ]
  },
  {
   "cell_type": "markdown",
   "id": "bb5f7ff234b84330",
   "metadata": {
    "collapsed": false
   },
   "source": [
    "Use [SSSD-main/.../timeseries_utils.py](SSSD-main/docs/instructions/PTB-XL/clinical_ts/timeseries_utils.py) functions to preprocess:\n",
    "\n",
    "1. ToTensor(object):\n",
    "    \"\"\"Convert ndarrays in sample to Tensors.\"\"\"\n",
    "2. class TimeseriesDatasetCrops(torch.utils.data.Dataset)"
   ]
  },
  {
   "cell_type": "code",
   "execution_count": 1,
   "id": "d72ea9d4fccfe8eb",
   "metadata": {
    "ExecuteTime": {
     "end_time": "2024-02-14T13:34:51.366933Z",
     "start_time": "2024-02-14T13:34:49.150582200Z"
    },
    "collapsed": true
   },
   "outputs": [
    {
     "name": "stderr",
     "output_type": "stream",
     "text": [
      "/home/liranc6/miniconda3/envs/ecg/lib/python3.10/site-packages/transformers/utils/generic.py:441: UserWarning: torch.utils._pytree._register_pytree_node is deprecated. Please use torch.utils._pytree.register_pytree_node instead.\n",
      "  _torch_pytree._register_pytree_node(\n"
     ]
    }
   ],
   "source": [
    "import itertools\n",
    "import os\n",
    "import wfdb\n",
    "from tqdm import tqdm\n",
    "import pandas as pd\n",
    "import json\n",
    "import os\n",
    "import collections\n",
    "import numpy as np\n",
    "import glob\n",
    "import h5py\n",
    "import sys\n",
    "from multiprocessing import Pool\n",
    "\n",
    "sys.path.append('..')  # Add the parent directory to the sys.path\n",
    "\n",
    "import utils.data_preparation as data_preparation\n",
    "\n",
    "# os.environ['CUDA_DEVICE_ORDER'] = 'PCI_BUS_ID'\n",
    "# os.environ['CUDA_VISIBLE_DEVICES'] = '6'\n",
    "\n",
    "# ! gpustat\n",
    "\n",
    "# data_path = '/mnt/qnap/liranc6/data/'\n",
    "# subset_data_dir = \"/mnt/qnap/liranc6/data/icentia11k-continuous-ecg_normal_sinus_subset/\" #patients 0-8"
   ]
  },
  {
   "cell_type": "code",
   "execution_count": 5,
   "id": "93c7a57b60095ebf",
   "metadata": {
    "ExecuteTime": {
     "end_time": "2024-02-14T13:35:04.025998200Z",
     "start_time": "2024-02-14T13:35:03.967156100Z"
    },
    "collapsed": false
   },
   "outputs": [],
   "source": [
    "def dir_tree(path, level=0):\n",
    "    for root, _, files in os.walk(path):\n",
    "        indent = ' ' * level\n",
    "        print(f'{indent}{root}')\n",
    "        for file in files:\n",
    "            print(f'{indent}└─{file}')\n",
    "        level += 1\n",
    "        \n",
    "\n",
    "# dir_tree(subset_data_dir)"
   ]
  },
  {
   "cell_type": "code",
   "execution_count": 3,
   "id": "867a1efe",
   "metadata": {},
   "outputs": [],
   "source": [
    "import h5py\n",
    "import numpy as np\n",
    "import wfdb\n",
    "from tqdm import tqdm\n",
    "from utils.data_preparation import find_beat_indices\n",
    "\n",
    "def extract_and_save_p_signal_to_HDF5(input_dir, output_file, with_R_beats=False):\n",
    "    \"\"\"\n",
    "    Read ECG signals and save the p_signal data as NumPy arrays in an HDF5 file\n",
    "    while preserving the directory hierarchy.\n",
    "\n",
    "    Parameters:\n",
    "    - input_dir: Directory containing ECG data.\n",
    "    - output_file: The HDF5 file to save the p_signal data.\n",
    "\n",
    "    Returns:\n",
    "    - None\n",
    "    \"\"\"\n",
    "    # Create the output directory if it doesn't exist\n",
    "    os.makedirs(os.path.dirname(output_file), exist_ok=True)\n",
    "\n",
    "    num_files = sum([1 for _ in os.walk(input_dir)])\n",
    "    # Open the HDF5 file in write mode\n",
    "    with h5py.File(output_file, 'w') as h5_file:\n",
    "        # Traverse the input directory to find data files\n",
    "        for root, _, files in tqdm(os.walk(input_dir), desc=\"Processing files\", total=num_files, unit=\"file\"):\n",
    "            for file in files:\n",
    "                # Check if the file is a data file (ends with .dat)\n",
    "                if file.endswith('.dat'):\n",
    "                    record_name = os.path.splitext(file)[0]\n",
    "\n",
    "                    # Get the relative path from the input directory\n",
    "                    relative_path = os.path.relpath(root, input_dir)\n",
    "                    dataset_name = os.path.join(relative_path, f\"{record_name}_p_signal\")\n",
    "\n",
    "                    # Read the signal using wfdb\n",
    "                    filename = os.path.join(root, record_name)\n",
    "                    \n",
    "                    signals, fields = wfdb.rdsamp(filename)\n",
    "\n",
    "                    # Define beat types for annotation plotting\n",
    "                    beat_types = ['N', 'Q', '+', 'V', 'S']\n",
    "\n",
    "                    if with_R_beats:\n",
    "                        # Read the annotations\n",
    "                        ann = wfdb.rdann(filename, 'atr')\n",
    "                        indices = [item for sublist in find_beat_indices(ann, beat_types).values() for item in sublist]\n",
    "                        indices = np.array(indices) - 1\n",
    "                        # create np array of the same size as the signal and fill it with zeros (default value), put 1 in the indices\n",
    "                        # of the beats\n",
    "                        beats = np.zeros(signals.shape[0])\n",
    "                        beats[indices] = 1\n",
    "\n",
    "                        # create np array with dims [2, len(signals)] to store the signal and the beats\n",
    "                        data = np.vstack((signals[:, 0], beats))\n",
    "                    else:\n",
    "                        data = signals[:, 0]\n",
    "\n",
    "\n",
    "\n",
    "                    # Save the p_signal data in the HDF5 file with the dataset name\n",
    "                    h5_file.create_dataset(dataset_name, data=data)\n",
    "\n",
    "        "
   ]
  },
  {
   "cell_type": "code",
   "execution_count": null,
   "id": "9dee19ef",
   "metadata": {},
   "outputs": [],
   "source": [
    "subset_data_dir = os.path.join(data_path, 'icentia11k-continuous-ecg_normal_sinus_subset')\n",
    "pSignal_npArray_data_dir_h5 = os.path.join(data_path,\n",
    "                                           \"with_R_beats\",\n",
    "                                           'icentia11k-continuous-ecg_normal_sinus_subset_npArrays.h5'\n",
    "                                           )\n",
    "# data_preparation.extract_and_save_p_signal_to_HDF5(subset_data_dir, pSignal_npArray_data_dir_h5, with_R_beats=True)\n",
    "extract_and_save_p_signal_to_HDF5(subset_data_dir, pSignal_npArray_data_dir_h5, with_R_beats=True)"
   ]
  },
  {
   "cell_type": "code",
   "execution_count": 6,
   "id": "71bfe1f3",
   "metadata": {},
   "outputs": [],
   "source": [
    "def print_first_n_datasets_in_HDF5(hdf5_file, n=10):\n",
    "    \"\"\"\n",
    "    Print the first n datasets in an HDF5 file.\n",
    "\n",
    "    Parameters:\n",
    "    - hdf5_file: The HDF5 file to read the data from.\n",
    "    - n: The number of datasets to print.\n",
    "    \"\"\"\n",
    "    with h5py.File(hdf5_file, 'r') as h5_file:\n",
    "        datasets = []\n",
    "\n",
    "        def visitor_func(name, node):\n",
    "            if isinstance(node, h5py.Dataset):\n",
    "                datasets.append(name)\n",
    "\n",
    "        h5_file.visititems(visitor_func)\n",
    "        for dataset in datasets[:n]:\n",
    "            print(dataset)\n",
    "\n",
    "# Print the first 10 datasets in the HDF5 file\n",
    "# print_first_n_datasets_in_HDF5(pSignal_npArray_data_dir_h5, 10)"
   ]
  },
  {
   "cell_type": "code",
   "execution_count": null,
   "id": "c7581480",
   "metadata": {},
   "outputs": [],
   "source": [
    "def read_dataset_content(hdf5_file, dataset_name):\n",
    "    \"\"\"\n",
    "    Read the content of a specific dataset from an HDF5 file.\n",
    "\n",
    "    Parameters:\n",
    "    - hdf5_file: The HDF5 file to read the data from.\n",
    "    - dataset_name: The name of the dataset to read.\n",
    "    \"\"\"\n",
    "    with h5py.File(hdf5_file, 'r') as h5_file:\n",
    "        if dataset_name in h5_file:\n",
    "            data = h5_file[dataset_name][:]\n",
    "            return data\n",
    "        else:\n",
    "            print(f\"Dataset {dataset_name} not found in the file.\")\n",
    "            return None\n",
    "\n",
    "# Read the content of a specific dataset\n",
    "data = read_dataset_content(pSignal_npArray_data_dir_h5, \"p00/p00000/p00000_s00_128028_to_281500_p_signal\")\n",
    "print(f\"{data.shape=}\")\n",
    "print(f\"{data=}\")"
   ]
  },
  {
   "cell_type": "code",
   "execution_count": null,
   "id": "636626a2",
   "metadata": {},
   "outputs": [],
   "source": [
    "data_preparation.count_items(pSignal_npArray_data_dir_h5)"
   ]
  },
  {
   "cell_type": "code",
   "execution_count": null,
   "id": "12f1860a",
   "metadata": {},
   "outputs": [],
   "source": [
    "data_preparation.print_h5_hierarchy(pSignal_npArray_data_dir_h5)"
   ]
  },
  {
   "cell_type": "code",
   "execution_count": null,
   "id": "046d5f49",
   "metadata": {},
   "outputs": [],
   "source": [
    "import h5py\n",
    "\n",
    "def split_and_save_data(input_h5_file, window_size, output_h5_file):\n",
    "    \"\"\"\n",
    "    Split each dataset in the input HDF5 file into windows of the specified size\n",
    "    and save the resulting windows into an output HDF5 file.\n",
    "\n",
    "    :param input_h5_file: The input HDF5 file with datasets to split.\n",
    "    :param window_size: The size of each window.\n",
    "    :param output_h5_file: The output HDF5 file to save the split data.\n",
    "    :return: None\n",
    "    \"\"\"\n",
    "    def extract_integers(text):\n",
    "        \"\"\"\n",
    "        Extract integers from the given text.\n",
    "\n",
    "        :param text: The input text containing characters and integers.\n",
    "        :return: A string containing only the integers found in the text.\n",
    "        \"\"\"\n",
    "        return ''.join(filter(str.isdigit, str(text)))\n",
    "\n",
    "    # Create the output directory if it doesn't exist\n",
    "    os.makedirs(os.path.dirname(output_h5_file), exist_ok=True)\n",
    "\n",
    "    #check if file is being written by another process\n",
    "    import fcntl\n",
    "\n",
    "    def is_file_locked(file_path):\n",
    "        locked = None\n",
    "        file_object = open(file_path, 'r')\n",
    "        try:\n",
    "            fcntl.flock(file_object, fcntl.LOCK_EX | fcntl.LOCK_NB)\n",
    "            locked = False\n",
    "        except IOError:\n",
    "            locked = True\n",
    "        finally:\n",
    "            file_object.close()\n",
    "        return locked\n",
    "\n",
    "    # Usage\n",
    "    if is_file_locked(input_h5_file):\n",
    "        print(f\"The file {input_h5_file} is being written by another process.\")\n",
    "    else:\n",
    "        print(f\"The file {input_h5_file} is not locked.\")\n",
    "\n",
    "    print(f\"{os.path.exists(input_h5_file)=}, {os.path.exists(output_h5_file)=}\")\n",
    "    with h5py.File(input_h5_file, 'r') as input_file, h5py.File(output_h5_file, 'w') as output_file:\n",
    "        total_leaf_iterations = 0\n",
    "        for group_name, group_item in input_file.items():\n",
    "            assert not isinstance(group_name, h5py.Group), \"create only leaf groups\"\n",
    "            for subgroup_name, subgroup_item in tqdm(group_item.items(), desc=\"Processing Subgroups\", unit=\"subgroup\"):\n",
    "                # print(f\"subgroup_name: {subgroup_name}\")\n",
    "                assert not isinstance(subgroup_name, h5py.Group), \"leaf groups\"\n",
    "                # dataset_data = []\n",
    "                total_leaf_iterations += len(subgroup_item)\n",
    "\n",
    "        progress_bar = tqdm(total=total_leaf_iterations, position=0, desc='Processing')\n",
    "        for group_name, group_item in input_file.items():\n",
    "            assert not isinstance(group_name, h5py.Group), \"create only leaf groups\"\n",
    "            for subgroup_name, subgroup_item in group_item.items():\n",
    "                # print(f\"subgroup_name: {subgroup_name}\")\n",
    "                assert not isinstance(subgroup_name, h5py.Group), \"leaf groups\"\n",
    "                dataset_data = []\n",
    "                for dataset_name, dataset_item in subgroup_item.items():\n",
    "                    # print(f\"dataset_name: {dataset_name}\")\n",
    "                    assert not isinstance(dataset_name, h5py.Dataset)\n",
    "                    # Split the dataset into windows\n",
    "                    data = dataset_item[:] # data.shape = (2, len(signal))\n",
    "                    num_windows = len(data[1]) // window_size\n",
    "                    if num_windows > 1:\n",
    "                        pass\n",
    "                    \n",
    "                    # window_data = np.array([data[:, i:i + window_size] for i in range(0, data.shape[1], window_size)])\n",
    "                    window_data = np.array([data[:, i:i + window_size] for i in range(0, data.shape[1], window_size) if i + window_size <= data.shape[1]])\n",
    "                    dataset_data.extend(window_data)\n",
    "                    # Save each window as numpy array and add it to the output dataset\n",
    "                    # for i in range(num_windows):\n",
    "                    #     window_data = data[i * window_size: (i + 1) * window_size]\n",
    "                        \n",
    "                    #     dataset_data.append(window_data)\n",
    "\n",
    "                    dataset_name = extract_integers(subgroup_name)\n",
    "                    progress_bar.update(1)\n",
    "                output_file.create_dataset(dataset_name, data=dataset_data)\n",
    "                \n",
    "# split the arrays to fixed size windows\n",
    "fs = 250\n",
    "context_window_size = 9*60*fs  # minutes * seconds * fs\n",
    "label_window_size = 1*60*fs  # minutes * seconds * fs\n",
    "window_size = context_window_size+label_window_size\n",
    "\n",
    "split_pSignal_file = os.path.join(data_path,\n",
    "                                    \"with_R_beats\",\n",
    "                                    'icentia11k-continuous-ecg_normal_sinus_subset_npArrays_splits',\n",
    "                                    '10minutes_window.h5')\n",
    "base_name, extension = os.path.splitext(os.path.basename(split_pSignal_file))\n",
    "new_base_name = f\"{base_name}_temp{extension}\"\n",
    "temp_filename = os.path.join(os.path.dirname(split_pSignal_file), new_base_name)\n",
    "# data_preparation.split_and_save_data(pSignal_npArray_data_dir_h5, window_size, split_pSignal_file)\n",
    "split_and_save_data(pSignal_npArray_data_dir_h5, window_size, split_pSignal_file)"
   ]
  },
  {
   "cell_type": "code",
   "execution_count": null,
   "id": "ceee987a",
   "metadata": {},
   "outputs": [],
   "source": [
    "print_first_n_datasets_in_HDF5(split_pSignal_file, 10)"
   ]
  },
  {
   "cell_type": "code",
   "execution_count": null,
   "id": "6a09c163",
   "metadata": {},
   "outputs": [],
   "source": [
    "data = read_dataset_content(split_pSignal_file, \"00000\")\n",
    "print(f\"{data.shape=}\")\n",
    "print(f\"{data[0].shape=}\")\n",
    "print(f\"{data[0][1]=}\")\n",
    "indices = np.where(data[0][1] == 1)\n",
    "print(f\"{len(indices)=}\")\n",
    "print(f\"{indices[0].shape=}\")\n",
    "print(f\"Indices of 1: {indices[0][:15]}\")"
   ]
  },
  {
   "cell_type": "code",
   "execution_count": null,
   "id": "737a5b726bd64e77",
   "metadata": {
    "ExecuteTime": {
     "start_time": "2024-02-14T13:40:16.638542400Z"
    },
    "collapsed": false
   },
   "outputs": [],
   "source": [
    "data_preparation.print_h5_hierarchy(split_pSignal_file)\n",
    "a"
   ]
  },
  {
   "cell_type": "code",
   "execution_count": null,
   "id": "966465396a9676df",
   "metadata": {
    "ExecuteTime": {
     "end_time": "2024-02-14T13:50:58.089907600Z",
     "start_time": "2024-02-14T13:50:57.956323100Z"
    },
    "collapsed": false
   },
   "outputs": [],
   "source": [
    "import h5py\n",
    "\n",
    "def print_top_items(file_path, num_datasets=3, num_items=3):\n",
    "    with h5py.File(file_path, 'r') as f:\n",
    "        dataset_counter = 0\n",
    "        for name, item in f.items():\n",
    "            if isinstance(item, h5py.Dataset):\n",
    "                print(f\"Dataset: {name}\")\n",
    "                print(f\"top {num_items} items:\")\n",
    "                print(item[:num_items])\n",
    "                dataset_counter += 1\n",
    "                if dataset_counter >= num_datasets:\n",
    "                    break\n",
    "\n",
    "print_top_items(split_pSignal_file)"
   ]
  },
  {
   "cell_type": "code",
   "execution_count": 2,
   "id": "53d7848a",
   "metadata": {},
   "outputs": [],
   "source": [
    "fs = 250 #sampling rate\n",
    "SECONDS_IN_MINUTE = 60\n",
    "# split the arrays to fixed size windows\n",
    "context_window_size = 10*SECONDS_IN_MINUTE*fs  # minutes * seconds * fs\n",
    "label_window_size = 5*SECONDS_IN_MINUTE*fs  # minutes * seconds * fs\n",
    "window_size = context_window_size+label_window_size\n",
    "\n",
    "# creating subset of normal sinus rhythms (NSR) from the raw data\n",
    "min_window_size = window_size  # minutes * seconds * sampling rate\n",
    "# the reason for min_window_size is that I hope to forecast 1-5 minutes ahead.\n",
    "# and I dont know if a smaller window will give me enough context data\n",
    "# on top of that, I think I have enough data so I can fiter out the shorter NSR.\n",
    "\n",
    "data_dir = '/datasets/Icentia11k/physionet.org/files/icentia11k-continuous-ecg/1.0'\n",
    "my_data_dir = '/home/liranc6/data'\n",
    "\n",
    "# after creating the subset, with 10 first patients I have more than 10 hours of NSR data\n",
    "# divided to 62 files of at least 10 minutes each.\n",
    "# I know its small but I dont need more for now. when I will, I will add more patients. (I used 10/11000 patients)\n",
    "# subset_data_dir = os.path.join(my_data_dir, 'icentia11k-continuous-ecg_normal_sinus_subset')\n",
    "\n",
    "pSignal_npArray_data_dir_h5 = os.path.join(my_data_dir, \"with_R_beats\", 'icentia11k-continuous-ecg_normal_sinus_subset_npArrays.h5')"
   ]
  },
  {
   "cell_type": "code",
   "execution_count": 9,
   "id": "cb00ff6d",
   "metadata": {},
   "outputs": [
    {
     "data": {
      "text/plain": [
       "'/home/liranc6/data/with_R_beats/icentia11k-continuous-ecg_normal_sinus_subset_npArrays.h5'"
      ]
     },
     "execution_count": 9,
     "metadata": {},
     "output_type": "execute_result"
    }
   ],
   "source": [
    "pSignal_npArray_data_dir_h5"
   ]
  },
  {
   "cell_type": "code",
   "execution_count": 21,
   "id": "f3528a1ca2e08566",
   "metadata": {
    "collapsed": false
   },
   "outputs": [
    {
     "name": "stderr",
     "output_type": "stream",
     "text": [
      "extract_sinus_rhythms_to_new_subset: 100%|██████████| 400/400 [00:25<00:00, 15.95it/s]\n"
     ]
    }
   ],
   "source": [
    "import os\n",
    "import numpy as np\n",
    "import wfdb\n",
    "import h5py\n",
    "from multiprocessing import Pool\n",
    "import itertools\n",
    "from tqdm import tqdm\n",
    "\n",
    "\n",
    "parallel_extract_sinus_rhythms_to_p_signal_array(data_dir, pSignal_npArray_data_dir_h5, min_window_size, start_patient_id=47, end_patient_id=55)"
   ]
  },
  {
   "cell_type": "code",
   "execution_count": 37,
   "id": "2d649a07",
   "metadata": {},
   "outputs": [
    {
     "name": "stdout",
     "output_type": "stream",
     "text": [
      "Dataset: /00000, Count: 90\n",
      "Dataset: /00001, Count: 50\n",
      "Dataset: /00002, Count: 32\n",
      "Dataset: /00003, Count: 14\n",
      "Dataset: /00004, Count: 15\n",
      "Dataset: /00005, Count: 43\n",
      "Dataset: /00006, Count: 35\n",
      "Dataset: /00007, Count: 91\n",
      "Dataset: /00008, Count: 41\n",
      "Dataset: /00009, Count: 12\n",
      "Total count: 423\n"
     ]
    },
    {
     "data": {
      "text/plain": [
       "(90, 2, 225000)"
      ]
     },
     "execution_count": 37,
     "metadata": {},
     "output_type": "execute_result"
    }
   ],
   "source": [
    "path = '/home/liranc6/data/with_R_beats/icentia11k-continuous-ecg_normal_sinus_subset_npArrays_splits/15_minutes_window_p0_to_p99.h5'\n",
    "\n",
    "data_preparation.count_items(path)\n",
    "data_preparation.read_dataset_content(path, '00000').shape"
   ]
  }
 ],
 "metadata": {
  "kernelspec": {
   "display_name": "ecg",
   "language": "python",
   "name": "python3"
  },
  "language_info": {
   "codemirror_mode": {
    "name": "ipython",
    "version": 3
   },
   "file_extension": ".py",
   "mimetype": "text/x-python",
   "name": "python",
   "nbconvert_exporter": "python",
   "pygments_lexer": "ipython3",
   "version": "3.10.13"
  }
 },
 "nbformat": 4,
 "nbformat_minor": 5
}
