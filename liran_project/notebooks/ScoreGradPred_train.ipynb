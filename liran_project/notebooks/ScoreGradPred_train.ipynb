{
 "cells": [
  {
   "cell_type": "code",
   "execution_count": 22,
   "outputs": [],
   "source": [
    "ProjectPath = \"/home/liranc6/ecg/ecg_forecasting/ScoreGradPred/\""
   ],
   "metadata": {
    "collapsed": false,
    "ExecuteTime": {
     "end_time": "2024-02-14T14:45:44.064144700Z",
     "start_time": "2024-02-14T14:45:44.047789900Z"
    }
   },
   "id": "5ba8559f1fd159ac"
  },
  {
   "cell_type": "code",
   "execution_count": 23,
   "outputs": [
    {
     "ename": "ModuleNotFoundError",
     "evalue": "No module named 'ml_collections'",
     "output_type": "error",
     "traceback": [
      "\u001B[0;31m---------------------------------------------------------------------------\u001B[0m",
      "\u001B[0;31mModuleNotFoundError\u001B[0m                       Traceback (most recent call last)",
      "Cell \u001B[0;32mIn[23], line 11\u001B[0m\n\u001B[1;32m      8\u001B[0m \u001B[38;5;28;01mimport\u001B[39;00m \u001B[38;5;21;01mnumpy\u001B[39;00m \u001B[38;5;28;01mas\u001B[39;00m \u001B[38;5;21;01mnp\u001B[39;00m\n\u001B[1;32m     10\u001B[0m \u001B[38;5;66;03m# import ScoreGradPred.configs\u001B[39;00m\n\u001B[0;32m---> 11\u001B[0m \u001B[38;5;28;01mfrom\u001B[39;00m \u001B[38;5;21;01mScoreGradPred\u001B[39;00m\u001B[38;5;21;01m.\u001B[39;00m\u001B[38;5;21;01mconfigs\u001B[39;00m\u001B[38;5;21;01m.\u001B[39;00m\u001B[38;5;21;01mconfig\u001B[39;00m \u001B[38;5;28;01mimport\u001B[39;00m get_configs\n\u001B[1;32m     12\u001B[0m \u001B[38;5;28;01mfrom\u001B[39;00m \u001B[38;5;21;01mgluonts\u001B[39;00m\u001B[38;5;21;01m.\u001B[39;00m\u001B[38;5;21;01mdataset\u001B[39;00m\u001B[38;5;21;01m.\u001B[39;00m\u001B[38;5;21;01mmultivariate_grouper\u001B[39;00m \u001B[38;5;28;01mimport\u001B[39;00m MultivariateGrouper\n\u001B[1;32m     13\u001B[0m \u001B[38;5;28;01mfrom\u001B[39;00m \u001B[38;5;21;01mgluonts\u001B[39;00m\u001B[38;5;21;01m.\u001B[39;00m\u001B[38;5;21;01mdataset\u001B[39;00m\u001B[38;5;21;01m.\u001B[39;00m\u001B[38;5;21;01mrepository\u001B[39;00m\u001B[38;5;21;01m.\u001B[39;00m\u001B[38;5;21;01mdatasets\u001B[39;00m \u001B[38;5;28;01mimport\u001B[39;00m dataset_recipes, get_dataset\n",
      "File \u001B[0;32m~/ecg/ecg_forecasting/ScoreGradPred/configs/config.py:1\u001B[0m\n\u001B[0;32m----> 1\u001B[0m \u001B[38;5;28;01mfrom\u001B[39;00m \u001B[38;5;21;01m.\u001B[39;00m\u001B[38;5;21;01melec\u001B[39;00m \u001B[38;5;28;01mimport\u001B[39;00m \u001B[38;5;241m*\u001B[39m\n\u001B[1;32m      3\u001B[0m \u001B[38;5;28;01mdef\u001B[39;00m \u001B[38;5;21mget_configs\u001B[39m(dataset, name):\n\u001B[1;32m      4\u001B[0m     elec_config_dict \u001B[38;5;241m=\u001B[39m {\n\u001B[1;32m      5\u001B[0m         \u001B[38;5;124m'\u001B[39m\u001B[38;5;124mddpm_d\u001B[39m\u001B[38;5;124m'\u001B[39m: get_elec_ddpm_discrete_config(),\n\u001B[1;32m      6\u001B[0m         \u001B[38;5;124m'\u001B[39m\u001B[38;5;124mddpm_c\u001B[39m\u001B[38;5;124m'\u001B[39m: get_elec_ddpm_cont_config(),\n\u001B[0;32m   (...)\u001B[0m\n\u001B[1;32m      9\u001B[0m         \u001B[38;5;124m'\u001B[39m\u001B[38;5;124msubvpsde\u001B[39m\u001B[38;5;124m'\u001B[39m: get_elec_subvpsde_config()\n\u001B[1;32m     10\u001B[0m     }\n",
      "File \u001B[0;32m~/ecg/ecg_forecasting/ScoreGradPred/configs/elec/__init__.py:1\u001B[0m\n\u001B[0;32m----> 1\u001B[0m \u001B[38;5;28;01mfrom\u001B[39;00m \u001B[38;5;21;01m.\u001B[39;00m\u001B[38;5;21;01mddpm_discrete\u001B[39;00m \u001B[38;5;28;01mimport\u001B[39;00m get_elec_ddpm_discrete_config\n\u001B[1;32m      2\u001B[0m \u001B[38;5;28;01mfrom\u001B[39;00m \u001B[38;5;21;01m.\u001B[39;00m\u001B[38;5;21;01mddpm_cont\u001B[39;00m \u001B[38;5;28;01mimport\u001B[39;00m get_elec_ddpm_cont_config\n\u001B[1;32m      3\u001B[0m \u001B[38;5;28;01mfrom\u001B[39;00m \u001B[38;5;21;01m.\u001B[39;00m\u001B[38;5;21;01msmld_dscrete\u001B[39;00m \u001B[38;5;28;01mimport\u001B[39;00m get_elec_smld_discrete_config\n",
      "File \u001B[0;32m~/ecg/ecg_forecasting/ScoreGradPred/configs/elec/ddpm_discrete.py:1\u001B[0m\n\u001B[0;32m----> 1\u001B[0m \u001B[38;5;28;01mfrom\u001B[39;00m \u001B[38;5;21;01mconfigs\u001B[39;00m\u001B[38;5;21;01m.\u001B[39;00m\u001B[38;5;21;01melec\u001B[39;00m\u001B[38;5;21;01m.\u001B[39;00m\u001B[38;5;21;01melec_config\u001B[39;00m \u001B[38;5;28;01mimport\u001B[39;00m get_default_configs\n\u001B[1;32m      5\u001B[0m \u001B[38;5;28;01mdef\u001B[39;00m \u001B[38;5;21mget_elec_ddpm_discrete_config\u001B[39m():\n\u001B[1;32m      6\u001B[0m     config \u001B[38;5;241m=\u001B[39m get_default_configs()\n",
      "File \u001B[0;32m~/ecg/ecg_forecasting/ScoreGradPred/configs/elec/__init__.py:1\u001B[0m\n\u001B[0;32m----> 1\u001B[0m \u001B[38;5;28;01mfrom\u001B[39;00m \u001B[38;5;21;01m.\u001B[39;00m\u001B[38;5;21;01mddpm_discrete\u001B[39;00m \u001B[38;5;28;01mimport\u001B[39;00m get_elec_ddpm_discrete_config\n\u001B[1;32m      2\u001B[0m \u001B[38;5;28;01mfrom\u001B[39;00m \u001B[38;5;21;01m.\u001B[39;00m\u001B[38;5;21;01mddpm_cont\u001B[39;00m \u001B[38;5;28;01mimport\u001B[39;00m get_elec_ddpm_cont_config\n\u001B[1;32m      3\u001B[0m \u001B[38;5;28;01mfrom\u001B[39;00m \u001B[38;5;21;01m.\u001B[39;00m\u001B[38;5;21;01msmld_dscrete\u001B[39;00m \u001B[38;5;28;01mimport\u001B[39;00m get_elec_smld_discrete_config\n",
      "File \u001B[0;32m~/ecg/ecg_forecasting/ScoreGradPred/configs/elec/ddpm_discrete.py:1\u001B[0m\n\u001B[0;32m----> 1\u001B[0m \u001B[38;5;28;01mfrom\u001B[39;00m \u001B[38;5;21;01mconfigs\u001B[39;00m\u001B[38;5;21;01m.\u001B[39;00m\u001B[38;5;21;01melec\u001B[39;00m\u001B[38;5;21;01m.\u001B[39;00m\u001B[38;5;21;01melec_config\u001B[39;00m \u001B[38;5;28;01mimport\u001B[39;00m get_default_configs\n\u001B[1;32m      5\u001B[0m \u001B[38;5;28;01mdef\u001B[39;00m \u001B[38;5;21mget_elec_ddpm_discrete_config\u001B[39m():\n\u001B[1;32m      6\u001B[0m     config \u001B[38;5;241m=\u001B[39m get_default_configs()\n",
      "File \u001B[0;32m~/ecg/ecg_forecasting/ScoreGradPred/configs/elec/elec_config.py:1\u001B[0m\n\u001B[0;32m----> 1\u001B[0m \u001B[38;5;28;01mimport\u001B[39;00m \u001B[38;5;21;01mml_collections\u001B[39;00m\n\u001B[1;32m      2\u001B[0m \u001B[38;5;28;01mimport\u001B[39;00m \u001B[38;5;21;01mtorch\u001B[39;00m\n\u001B[1;32m      4\u001B[0m \u001B[38;5;28;01mdef\u001B[39;00m \u001B[38;5;21mget_default_configs\u001B[39m():\n",
      "\u001B[0;31mModuleNotFoundError\u001B[0m: No module named 'ml_collections'"
     ]
    }
   ],
   "source": [
    "#imports\n",
    "import os\n",
    "import sys\n",
    "sys.path.append(ProjectPath)\n",
    "import torch\n",
    "import pandas as pd\n",
    "import matplotlib.pyplot as plt\n",
    "import numpy as np\n",
    "\n",
    "# import ScoreGradPred.configs\n",
    "from ScoreGradPred.configs.config import get_configs\n",
    "from gluonts.dataset.multivariate_grouper import MultivariateGrouper\n",
    "from gluonts.dataset.repository.datasets import dataset_recipes, get_dataset\n",
    "from ScoreGradPred.score_sde.score_sde_estimator import ScoreGradEstimator\n",
    "from pts import Trainer\n",
    "from ScoreGradPred.score_sde.trainer import Trainer\n",
    "from gluonts.evaluation.backtest import make_evaluation_predictions\n",
    "from gluonts.evaluation import MultivariateEvaluator\n",
    "from ScoreGradPred.utils import *\n",
    "from ScoreGradPred.score_sde.util import seed_torch"
   ],
   "metadata": {
    "collapsed": false,
    "ExecuteTime": {
     "end_time": "2024-02-14T14:45:44.364005800Z",
     "start_time": "2024-02-14T14:45:44.230052800Z"
    }
   },
   "id": "249e75f112b49f34"
  },
  {
   "cell_type": "code",
   "execution_count": 38,
   "outputs": [],
   "source": [
    "! which python"
   ],
   "metadata": {
    "collapsed": false,
    "ExecuteTime": {
     "end_time": "2024-02-14T14:56:34.268165400Z",
     "start_time": "2024-02-14T14:56:34.141506300Z"
    }
   },
   "id": "3807145a0c8b6d60"
  },
  {
   "cell_type": "code",
   "execution_count": 33,
   "outputs": [],
   "source": [
    "! which python"
   ],
   "metadata": {
    "collapsed": false,
    "ExecuteTime": {
     "end_time": "2024-02-14T14:54:51.648012700Z",
     "start_time": "2024-02-14T14:54:51.509191500Z"
    }
   },
   "id": "71301a7d7d3225f2"
  },
  {
   "cell_type": "code",
   "execution_count": 29,
   "id": "initial_id",
   "metadata": {
    "collapsed": true,
    "ExecuteTime": {
     "end_time": "2024-02-14T14:51:15.470864100Z",
     "start_time": "2024-02-14T14:51:14.304245200Z"
    }
   },
   "outputs": [
    {
     "name": "stdout",
     "output_type": "stream",
     "text": [
      "\u001B[1m\u001B[37mrambo5                       \u001B[m  Wed Feb 14 16:51:14 2024  \u001B[1m\u001B[30m525.116.04\u001B[m\r\n",
      "\u001B[36m[0]\u001B[m \u001B[34mNVIDIA GeForce RTX 2080 Ti\u001B[m |\u001B[31m 26°C\u001B[m, \u001B[32m  0 %\u001B[m | \u001B[1m\u001B[33m    1\u001B[m / \u001B[33m11264\u001B[m MB |\r\n",
      "\u001B[36m[1]\u001B[m \u001B[34mNVIDIA GeForce RTX 2080 Ti\u001B[m |\u001B[31m 24°C\u001B[m, \u001B[32m  0 %\u001B[m | \u001B[1m\u001B[33m    1\u001B[m / \u001B[33m11264\u001B[m MB |\r\n",
      "\u001B[36m[2]\u001B[m \u001B[34mNVIDIA GeForce RTX 2080 Ti\u001B[m |\u001B[31m 26°C\u001B[m, \u001B[32m  0 %\u001B[m | \u001B[1m\u001B[33m    1\u001B[m / \u001B[33m11264\u001B[m MB |\r\n",
      "\u001B[36m[3]\u001B[m \u001B[34mNVIDIA GeForce RTX 2080 Ti\u001B[m |\u001B[31m 26°C\u001B[m, \u001B[32m  0 %\u001B[m | \u001B[1m\u001B[33m    1\u001B[m / \u001B[33m11264\u001B[m MB |\r\n",
      "\u001B[36m[4]\u001B[m \u001B[34mNVIDIA GeForce RTX 2080 Ti\u001B[m |\u001B[31m 24°C\u001B[m, \u001B[32m  0 %\u001B[m | \u001B[1m\u001B[33m    1\u001B[m / \u001B[33m11264\u001B[m MB |\r\n",
      "\u001B[36m[5]\u001B[m \u001B[34mNVIDIA GeForce RTX 2080 Ti\u001B[m |\u001B[31m 25°C\u001B[m, \u001B[32m  0 %\u001B[m | \u001B[1m\u001B[33m    1\u001B[m / \u001B[33m11264\u001B[m MB |\r\n",
      "\u001B[36m[6]\u001B[m \u001B[34mNVIDIA GeForce RTX 2080 Ti\u001B[m |\u001B[31m 26°C\u001B[m, \u001B[32m  0 %\u001B[m | \u001B[1m\u001B[33m    1\u001B[m / \u001B[33m11264\u001B[m MB |\r\n",
      "\u001B[36m[7]\u001B[m \u001B[34mNVIDIA GeForce RTX 2080 Ti\u001B[m |\u001B[31m 26°C\u001B[m, \u001B[32m  0 %\u001B[m | \u001B[1m\u001B[33m    1\u001B[m / \u001B[33m11264\u001B[m MB |\r\n"
     ]
    }
   ],
   "source": [
    "os.environ['CUDA_DEVICE_ORDER'] = 'PCI_BUS_ID'\n",
    "os.environ['CUDA_VISIBLE_DEVICES'] = '1'\n",
    "\n",
    "! gpustat\n",
    "\n",
    "subset_data_dir = \"/home/liranc6/ecg/ecg_forecasting/data/icentia11k-continuous-ecg_normal_sinus_subset/\""
   ]
  },
  {
   "cell_type": "code",
   "execution_count": null,
   "outputs": [],
   "source": [],
   "metadata": {
    "collapsed": false
   },
   "id": "71942de88d2db055"
  }
 ],
 "metadata": {
  "kernelspec": {
   "display_name": "Python 3",
   "language": "python",
   "name": "python3"
  },
  "language_info": {
   "codemirror_mode": {
    "name": "ipython",
    "version": 2
   },
   "file_extension": ".py",
   "mimetype": "text/x-python",
   "name": "python",
   "nbconvert_exporter": "python",
   "pygments_lexer": "ipython2",
   "version": "2.7.6"
  }
 },
 "nbformat": 4,
 "nbformat_minor": 5
}
