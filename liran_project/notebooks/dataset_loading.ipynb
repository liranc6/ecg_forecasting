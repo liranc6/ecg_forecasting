{
 "cells": [
  {
   "cell_type": "code",
   "execution_count": 1,
   "id": "4249d8a7cbdd5943",
   "metadata": {
    "ExecuteTime": {
     "end_time": "2024-02-14T13:54:08.748293Z",
     "start_time": "2024-02-14T13:54:07.566366200Z"
    },
    "collapsed": false
   },
   "outputs": [
    {
     "name": "stdout",
     "output_type": "stream",
     "text": [
      "\u001b[1m\u001b[37mrambo6                    \u001b[m  Fri May 31 23:05:42 2024  \u001b[1m\u001b[30m525.147.05\u001b[m\n",
      "\u001b[36m[0]\u001b[m \u001b[34mNVIDIA GeForce RTX 3090\u001b[m |\u001b[31m 25°C\u001b[m, \u001b[32m  0 %\u001b[m | \u001b[1m\u001b[33m    3\u001b[m / \u001b[33m24576\u001b[m MB |\n",
      "\u001b[36m[1]\u001b[m \u001b[34mNVIDIA GeForce RTX 3090\u001b[m |\u001b[31m 25°C\u001b[m, \u001b[32m  0 %\u001b[m | \u001b[1m\u001b[33m    3\u001b[m / \u001b[33m24576\u001b[m MB |\n",
      "\u001b[36m[2]\u001b[m \u001b[34mNVIDIA GeForce RTX 3090\u001b[m |\u001b[31m 26°C\u001b[m, \u001b[32m  0 %\u001b[m | \u001b[1m\u001b[33m    3\u001b[m / \u001b[33m24576\u001b[m MB |\n",
      "\u001b[36m[3]\u001b[m \u001b[34mNVIDIA GeForce RTX 3090\u001b[m |\u001b[31m 23°C\u001b[m, \u001b[32m  0 %\u001b[m | \u001b[1m\u001b[33m    3\u001b[m / \u001b[33m24576\u001b[m MB |\n",
      "\u001b[36m[4]\u001b[m \u001b[34mNVIDIA GeForce RTX 3090\u001b[m |\u001b[31m 25°C\u001b[m, \u001b[32m  0 %\u001b[m | \u001b[1m\u001b[33m    3\u001b[m / \u001b[33m24576\u001b[m MB |\n",
      "\u001b[36m[5]\u001b[m \u001b[34mNVIDIA GeForce RTX 3090\u001b[m |\u001b[31m 24°C\u001b[m, \u001b[32m  0 %\u001b[m | \u001b[1m\u001b[33m    3\u001b[m / \u001b[33m24576\u001b[m MB |\n",
      "\u001b[36m[6]\u001b[m \u001b[34mNVIDIA GeForce RTX 3090\u001b[m |\u001b[31m 48°C\u001b[m, \u001b[32m  0 %\u001b[m | \u001b[1m\u001b[33m  375\u001b[m / \u001b[33m24576\u001b[m MB | \u001b[1m\u001b[30mliranc6\u001b[m(\u001b[33m372M\u001b[m)\n",
      "\u001b[36m[7]\u001b[m \u001b[34mNVIDIA GeForce RTX 3090\u001b[m |\u001b[31m 25°C\u001b[m, \u001b[32m  0 %\u001b[m | \u001b[1m\u001b[33m    3\u001b[m / \u001b[33m24576\u001b[m MB |\n"
     ]
    }
   ],
   "source": [
    "import torch\n",
    "from torch.utils.data import Dataset\n",
    "import h5py\n",
    "import numpy as np\n",
    "import bisect\n",
    "import sys\n",
    "from pickle import FALSE\n",
    "from collections import OrderedDict\n",
    "\n",
    "\n",
    "sys.path.append('..')  # Add the parent directory to the sys.path\n",
    "\n",
    "import utils.dataset_loader as dataset_loader\n",
    "\n",
    "! gpustat"
   ]
  },
  {
   "cell_type": "code",
   "execution_count": 3,
   "id": "99f7248d570f1099",
   "metadata": {
    "ExecuteTime": {
     "end_time": "2024-02-14T13:54:27.446783500Z",
     "start_time": "2024-02-14T13:54:19.147073300Z"
    },
    "collapsed": false
   },
   "outputs": [
    {
     "name": "stdout",
     "output_type": "stream",
     "text": [
      "key='00003'\n",
      "key='00004'\n",
      "key='00005'\n",
      "key='00006'\n",
      "context.shape=(2, 135000), label.shape=(2, 15000)\n",
      "context.shape=(2, 135000), label.shape=(2, 15000)\n",
      "context.shape=(2, 135000), label.shape=(2, 15000)\n",
      "context.shape=(2, 135000), label.shape=(2, 15000)\n",
      "context.shape=(2, 135000), label.shape=(2, 15000)\n",
      "context.shape=(2, 135000), label.shape=(2, 15000)\n",
      "context.shape=(2, 135000), label.shape=(2, 15000)\n",
      "context.shape=(2, 135000), label.shape=(2, 15000)\n",
      "context.shape=(2, 135000), label.shape=(2, 15000)\n",
      "context.shape=(2, 135000), label.shape=(2, 15000)\n",
      "context.shape=(2, 135000), label.shape=(2, 15000)\n"
     ]
    }
   ],
   "source": [
    "# split the windows to fixed size context and label windows\n",
    "fs = 250\n",
    "context_window_size = 9*60*fs  # minutes * seconds * fs\n",
    "label_window_size = 1*60*fs  # minutes * seconds * fs\n",
    "window_size = context_window_size+label_window_size\n",
    "\n",
    "\n",
    "split_pSignal_file = '/mnt/qnap/liranc6/data/with_R_beats/icentia11k-continuous-ecg_normal_sinus_subset_npArrays_splits/10minutes_window.h5'\n",
    "# '/mnt/qnap/liranc6/data/icentia11k-continuous-ecg_normal_sinus_subset_npArrays_splits/10minutes_window.h5'\n",
    "\n",
    "# Instantiate the class\n",
    "dataset = dataset_loader.SingleLeadECGDatasetCrops(context_window_size, label_window_size, split_pSignal_file, start_patiant=3, end_patiant=6, data_with_RR=True, return_with_RR=True)\n",
    "\n",
    "# Loop over the dataset\n",
    "# print(f'{len(dataset)=}')\n",
    "for i in range(len(dataset)):\n",
    "    # print(i)\n",
    "    context, label = dataset.__getitem__(i)\n",
    "    print(f\"{context.shape=}, {label.shape=}\")\n",
    "    # Perform any assertions or checks here\n",
    "    if i >9:\n",
    "        break"
   ]
  },
  {
   "cell_type": "code",
   "execution_count": null,
   "id": "def3e3da2f6b5c4e",
   "metadata": {
    "collapsed": false
   },
   "outputs": [],
   "source": []
  },
  {
   "cell_type": "code",
   "execution_count": null,
   "id": "b08ae810",
   "metadata": {},
   "outputs": [],
   "source": []
  }
 ],
 "metadata": {
  "kernelspec": {
   "display_name": "Python 3",
   "language": "python",
   "name": "python3"
  },
  "language_info": {
   "codemirror_mode": {
    "name": "ipython",
    "version": 3
   },
   "file_extension": ".py",
   "mimetype": "text/x-python",
   "name": "python",
   "nbconvert_exporter": "python",
   "pygments_lexer": "ipython3",
   "version": "3.9.18"
  }
 },
 "nbformat": 4,
 "nbformat_minor": 5
}
