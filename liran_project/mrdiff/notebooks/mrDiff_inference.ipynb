{
 "cells": [
  {
   "cell_type": "code",
   "execution_count": 74,
   "metadata": {},
   "outputs": [],
   "source": [
    "import importlib\n",
    "import argparse\n",
    "import os\n",
    "import sys\n",
    "import time\n",
    "import wandb\n",
    "\n",
    "import torch\n",
    "import torch.nn as nn\n",
    "import torch.nn.functional as F\n",
    "from torch import optim\n",
    "from torch.optim import lr_scheduler\n",
    "from torch.utils.data import DataLoader\n",
    "\n",
    "import random\n",
    "import numpy as np\n",
    "import yaml\n",
    "from box import Box\n",
    "from pprint import pprint\n",
    "import wandb\n",
    "from tqdm import tqdm\n",
    "from datetime import timedelta\n",
    "from collections import defaultdict\n",
    "\n",
    "import warnings\n",
    "warnings.filterwarnings('ignore')\n",
    "\n",
    "import matplotlib.pyplot as plt\n",
    "import numpy as np\n",
    "\n",
    "from einops import rearrange, repeat\n",
    "from einops.layers.torch import Rearrange\n",
    "\n",
    "CONFIG_FILENAME = '/home/liranc6/ecg_forecasting/liran_project/mrdiff/src/config_ecg.yml'\n",
    "\n",
    "assert CONFIG_FILENAME.endswith('.yml')\n",
    "\n",
    "with open(CONFIG_FILENAME, 'r') as file:\n",
    "    config = yaml.safe_load(file)\n",
    "\n",
    "# Add the parent directory to the sys.path\n",
    "ProjectPath = config['project_path']\n",
    "sys.path.append(ProjectPath)\n",
    "\n",
    "import liran_project\n",
    "from liran_project.mrdiff.src.parser import parse_args\n",
    "from liran_project.utils.dataset_loader import SingleLeadECGDatasetCrops_mrDiff as DataSet\n",
    "from liran_project.utils.util import ecg_signal_difference\n",
    "from liran_project.mrdiff.exp_main import Exp_Main\n",
    "from liran_project.utils.common import *\n",
    "\n",
    "# Add the directory containing the exp module to the sys.path\n",
    "exp_module_path = os.path.join(ProjectPath, 'mrDiff')\n",
    "sys.path.append(exp_module_path)\n",
    "\n",
    "# from mrDiff.exp.exp_main import Exp_Main\n",
    "from mrDiff.data_process.etth_dataloader import Dataset_ETT_hour, Dataset_ETT_minute, Dataset_Custom, Dataset_Wind, Dataset_Caiso, Dataset_Production, Dataset_Caiso_M, Dataset_Production_M\n",
    "from mrDiff.data_process.financial_dataloader import DatasetH\n",
    "from mrDiff.data_process.forecast_dataloader import ForecastDataset\n",
    "from mrDiff.exp.exp_basic import Exp_Basic\n",
    "from mrDiff.models_diffusion import DDPM\n",
    "from mrDiff.utils.tools import EarlyStopping, adjust_learning_rate, visual\n",
    "from mrDiff.utils.metrics import metric\n",
    "\n",
    "from liran_project.mrdiff.src.parser import Args"
   ]
  },
  {
   "cell_type": "code",
   "execution_count": 75,
   "metadata": {},
   "outputs": [
    {
     "data": {
      "text/plain": [
       "{'configs_filename': '/home/liranc6/ecg_forecasting/liran_project/mrdiff/src/config_ecg.yml',\n",
       " 'configs': Box({'project_path': '/home/liranc6/ecg_forecasting', 'tqdm': 'terminal', 'debug': False, 'resume_exp': {'resume': False, 'resume_from': 9, 'resume_optimizer': True, 'resume_epoch': 9, 'resume_metrics': True, 'resume_scheduler': True, 'resume_configuration': False, 'specific_chpt_path': '/home/liranc6/ecg_forecasting/liran_project/results/icentia11k/mrDiff/DDPM_icentia11k_ftS_sl105000_ll7500_pl7500_lr0.001_bs16_invFalse_itr0/21_10_2024_1424/logs/1_last_checkpoint.pth', 'was_resumed': False, 'model_start_training_time': 'None'}, 'wandb': {'entity': 'liranc6', 'mode': 'online', 'project': 'mrdiff', 'resume': 'None', 'run_name': 'None', 'id': 'None', 'save_code': False, 'resume_from': 'None'}, 'general': {'random_seed': 42, 'evaluate': False, 'tag': None, 'dataset': 'icentia11k', 'features': 'S', 'training_mode': 'ONE', 'interval': 1000}, 'optimization': {'learning_rate': 0.001, 'batch_size': 16, 'test_batch_size': 32, 'patience': 30, 'weight_decay': 1e-05, 'lradj': '3', 'pct_start': 0.3}, 'hardware': {'print_gpu_memory_usage': False, 'num_workers': 0, 'use_gpu': True, 'gpu': 0, 'use_multi_gpu': False, 'devices': '0', 'device_ids': [0]}, 'paths': {'train_data': '/home/liranc6/data/with_R_beats/icentia11k-continuous-ecg_normal_sinus_subset_npArrays_splits/10minutes/train/p0_to_p32.h5', 'val_data': '/home/liranc6/data/with_R_beats/icentia11k-continuous-ecg_normal_sinus_subset_npArrays_splits/10minutes/val/p33_to_p39.h5', 'test_data': '/home/liranc6/data/with_R_beats/icentia11k-continuous-ecg_normal_sinus_subset_npArrays_splits/10minutes/test/p40_to_p46.h5', 'output_dir': '/home/liranc6/ecg_forecasting/liran_project/results/icentia11k/mrDiff', 'checkpoints': '/home/liranc6/ecg_forecasting/liran_project/results/icentia11k/mrDiff', 'model_path': 'None', 'debug_config_path': '/home/liranc6/ecg_forecasting/liran_project/mrdiff/src/debug_config_ecg.yml'}, 'data': {'fs': 250, 'freq': 'h', 'embed': 'timeF', 'cols': [], 'target': -1, 'inverse': True, 'individual': True, 'use_ar_init': False, 'use_residual': True, 'uncertainty': False, 'norm_method': 'z_score', 'normtype': 0, 'num_vars': 1}, 'training': {'logging': {'sample': False, 'log_interval': 2, 'save_interval': 1, 'save_best': True, 'save_dir': '/home/liranc6/ecg_forecasting/liran_project/results/icentia11k/mrDiff', 'log_start_epoch': 10}, 'patients': {'start_patient': 0, 'end_patient': 25}, 'iterations': {'itr': 1, 'pretrain_epochs': 0, 'train_epochs': 300, 'sample_times': 1}, 'identifiers': {'id_worst': -1, 'focus_variate': -1}, 'sequence': {'context_len': 0, 'seq_len': 112500, 'label_len': 105000, 'pred_len': 7500}, 'model_info': {'opt_loss_type': 'mse', 'model': 'DDPM', 'base_model': 'Linear', 'u_net_type': 'v0'}, 'analysis': {'vis_MTS_analysis': 0, 'use_window_normalization': True, 'use_future_mixup': True, 'use_X0_in_THiDi': False, 'channel_independence': False}, 'smoothing': {'smoothed_factors': [11, 21, 31]}, 'ode': {'ot_ode': True, 'beta_max': 1.0, 't0': '1e-4', 'T': 0.02, 'nfe': 20}, 'ablation_study': {'ablation_study_F_type': 'Linear', 'beta_schedule': 'cosine', 'beta_dist_alpha': -1, 'ablation_study_masking_type': 'none', 'ablation_study_masking_tau': 0.9}, 'diffusion': {'beta_start': 0.0001, 'beta_end': 0.02, 'diff_steps': 100, 'ddpm_inp_embed': 64, 'ddpm_layers_inp': 10, 'ddpm_dim_diff_steps': 256, 'ddpm_channels_conv': 128, 'ddpm_channels_fusion_I': 256, 'ddpm_layers_I': 5, 'ddpm_layers_II': 10, 'kernel_size': 25, 'dec_channel_nums': 256, 'cond_ddpm_num_layers': 5, 'cond_ddpm_channels_conv': 256}, 'sampler': {'type_sampler': 'dpm', 'parameterization': 'x_start', 'our_ddpm_clip': 100}, 'misc': {'affine': 0, 'subtract_last': 0, 'subtract_short_terms': 0}}, 'validation': {'patients': {'start_patient': 0, 'end_patient': 5}}, 'testing': {'patients': {'start_patient': 0, 'end_patient': 5}}, 'use_gpu': True})}"
      ]
     },
     "execution_count": 75,
     "metadata": {},
     "output_type": "execute_result"
    }
   ],
   "source": [
    "args = Args(CONFIG_FILENAME)\n",
    "\n",
    "# Now you can use args as needed\n",
    "vars(args)"
   ]
  },
  {
   "cell_type": "code",
   "execution_count": 76,
   "metadata": {},
   "outputs": [
    {
     "name": "stdout",
     "output_type": "stream",
     "text": [
      "Use GPU: cuda:0\n"
     ]
    }
   ],
   "source": [
    "exp = Exp_Main(args)"
   ]
  },
  {
   "cell_type": "code",
   "execution_count": 77,
   "metadata": {},
   "outputs": [],
   "source": [
    "results_path = \\\n",
    "    \"/home/liranc6/ecg_forecasting/liran_project/results/icentia11k/mrDiff/DDPM_icentia11k_ftS_sl105000_ll7500_pl7500_lr0.001_bs16_invFalse_itr0/25_10_2024_1822/best_checkp_mean_extra_r_beats.pth\""
   ]
  },
  {
   "cell_type": "code",
   "execution_count": 78,
   "metadata": {},
   "outputs": [],
   "source": [
    "assert os.path.exists(results_path)"
   ]
  },
  {
   "cell_type": "code",
   "execution_count": 79,
   "metadata": {},
   "outputs": [
    {
     "data": {
      "text/plain": [
       "Box({'resume': False, 'resume_from': 9, 'resume_optimizer': True, 'resume_epoch': 9, 'resume_metrics': True, 'resume_scheduler': True, 'resume_configuration': False, 'specific_chpt_path': '/home/liranc6/ecg_forecasting/liran_project/results/icentia11k/mrDiff/DDPM_icentia11k_ftS_sl105000_ll7500_pl7500_lr0.001_bs16_invFalse_itr0/21_10_2024_1424/logs/1_last_checkpoint.pth', 'was_resumed': False, 'model_start_training_time': 'None'})"
      ]
     },
     "execution_count": 79,
     "metadata": {},
     "output_type": "execute_result"
    }
   ],
   "source": [
    "exp.args.resume_exp"
   ]
  },
  {
   "cell_type": "code",
   "execution_count": 80,
   "metadata": {},
   "outputs": [
    {
     "name": "stderr",
     "output_type": "stream",
     "text": [
      "6104.37s - pydevd: Sending message related to process being replaced timed-out after 5 seconds\n"
     ]
    },
    {
     "name": "stdout",
     "output_type": "stream",
     "text": [
      "\u001b[1m\u001b[37mchuck2                  \u001b[m  Sun Oct 27 00:06:08 2024  \u001b[1m\u001b[30m535.183.01\u001b[m\n",
      "\u001b[36m[0]\u001b[m \u001b[34mNVIDIA A100-SXM4-80GB\u001b[m |\u001b[31m 33°C\u001b[m, \u001b[32m  0 %\u001b[m | \u001b[1m\u001b[33m48723\u001b[m / \u001b[33m81920\u001b[m MB | \u001b[1m\u001b[30mliranc6\u001b[m(\u001b[33m48714M\u001b[m)\n"
     ]
    }
   ],
   "source": [
    "# Reload the module\n",
    "importlib.reload(liran_project.mrdiff.exp_main)\n",
    "\n",
    "# Assuming `exp` is an existing instance of `Exp_Main`\n",
    "exp.__class__ = liran_project.mrdiff.exp_main.Exp_Main\n",
    "\n",
    "torch.cuda.empty_cache()\n",
    "! gpustat"
   ]
  },
  {
   "cell_type": "code",
   "execution_count": 81,
   "metadata": {},
   "outputs": [
    {
     "name": "stdout",
     "output_type": "stream",
     "text": [
      "Attribute: args, Size in bytes: 48\n",
      "Attribute: dataloaders, Size in bytes: 64\n",
      "Attribute: datasets, Size in bytes: 64\n",
      "Attribute: device, Size in bytes: 24\n",
      "Attribute: model_start_training_time, Size in bytes: 16\n",
      "Attribute: set_models_using_meta, Size in bytes: 72\n",
      "{'args': 4.57763671875e-05, 'dataloaders': 6.103515625e-05, 'datasets': 6.103515625e-05, 'device': 2.288818359375e-05, 'model_start_training_time': 1.52587890625e-05, 'set_models_using_meta': 6.866455078125e-05}\n"
     ]
    }
   ],
   "source": [
    "import torch\n",
    "import sys\n",
    "\n",
    "def measure_memory_usage(instance):\n",
    "    memory_usage = {}\n",
    "    for attr_name in dir(instance):\n",
    "        if not attr_name.startswith('__') and not callable(getattr(instance, attr_name)):\n",
    "            attr = getattr(instance, attr_name)\n",
    "            # Measure memory usage of the attribute in bytes\n",
    "            size_in_bytes = sys.getsizeof(attr)\n",
    "            print(f\"Attribute: {attr_name}, Size in bytes: {size_in_bytes}\")\n",
    "            memory_usage[attr_name] = size_in_bytes / (1024 ** 2)\n",
    "            if isinstance(attr, torch.Tensor):\n",
    "                # Measure additional GPU memory usage for tensors\n",
    "                memory_before = torch.cuda.memory_reserved()\n",
    "                attr_gpu = attr.to('cuda')\n",
    "                memory_after = torch.cuda.memory_reserved()\n",
    "                gpu_memory_usage = memory_after - memory_before\n",
    "                print(f\"Attribute: {attr_name}, GPU Memory in bytes: {gpu_memory_usage}\")\n",
    "                memory_usage[attr_name] += gpu_memory_usage / (1024 ** 2)\n",
    "                attr_gpu.to('cpu')\n",
    "    return memory_usage\n",
    "\n",
    "# Measure memory usage of each attribute\n",
    "memory_usage = measure_memory_usage(exp)\n",
    "print(memory_usage)"
   ]
  },
  {
   "cell_type": "code",
   "execution_count": 82,
   "metadata": {},
   "outputs": [],
   "source": [
    "resume_configs = exp.args.resume_exp\n",
    "resume_configs['resume'] = True\n",
    "resume_configs['resume_configuration'] = True\n",
    "resume_configs['resume_optimizer'] = False\n",
    "resume_configs['resume_scheduler'] = False\n",
    "resume_configs['resume_metrics'] = False\n",
    "resume_configs['specific_chpt_path'] = results_path\n",
    "\n",
    "exp.args.update_config_from_dict(resume_configs)\n"
   ]
  },
  {
   "cell_type": "code",
   "execution_count": 83,
   "metadata": {},
   "outputs": [],
   "source": [
    "# iteration = exp.load_checkpoint(results_path)\n",
    "# iteration"
   ]
  },
  {
   "cell_type": "code",
   "execution_count": 84,
   "metadata": {},
   "outputs": [],
   "source": [
    "exp.args.testing.patients.end_patient = 5"
   ]
  },
  {
   "cell_type": "code",
   "execution_count": 85,
   "metadata": {},
   "outputs": [
    {
     "data": {
      "text/plain": [
       "'DDPM_icentia11k_ftS_sl0_ll105000_pl7500_lr0.001_bs16_invTrue_itr1'"
      ]
     },
     "execution_count": 85,
     "metadata": {},
     "output_type": "execute_result"
    }
   ],
   "source": [
    "# Convert Box object to dictionary\n",
    "config_dict = exp.args.configs\n",
    "\n",
    "# Access the configuration values using dictionary syntax\n",
    "random_seed = config_dict['general']['random_seed']\n",
    "tag = config_dict['general']['tag']\n",
    "dataset = config_dict['general']['dataset']\n",
    "features = config_dict['general']['features']\n",
    "\n",
    "learning_rate = config_dict['optimization']['learning_rate']\n",
    "batch_size = config_dict['optimization']['batch_size']\n",
    "\n",
    "context_len = config_dict['training']['sequence']['context_len']\n",
    "label_len = config_dict['training']['sequence']['label_len']\n",
    "model = config_dict['training']['model_info']['model']\n",
    "pred_len = config_dict['training']['sequence']['pred_len']\n",
    "iterations = config_dict['training']['iterations']['itr']\n",
    "\n",
    "inverse = config_dict['data']['inverse']\n",
    "\n",
    "setting = f\"{model}_{dataset}_ft{features}_sl{context_len}_ll{label_len}_pl{pred_len}_lr{learning_rate}_bs{batch_size}_inv{inverse}_itr{iterations}\"\n",
    "setting"
   ]
  },
  {
   "cell_type": "code",
   "execution_count": 86,
   "metadata": {},
   "outputs": [],
   "source": [
    "fix_seed = random_seed\n",
    "random.seed(fix_seed)\n",
    "torch.manual_seed(fix_seed)\n",
    "np.random.seed(fix_seed)"
   ]
  },
  {
   "cell_type": "code",
   "execution_count": 87,
   "metadata": {},
   "outputs": [],
   "source": [
    "exp.datasets, exp.dataloaders = {}, {}\n",
    "exp.args.testing.patients.end_patient = 1"
   ]
  },
  {
   "cell_type": "code",
   "execution_count": 88,
   "metadata": {},
   "outputs": [
    {
     "name": "stderr",
     "output_type": "stream",
     "text": [
      "6110.83s - pydevd: Sending message related to process being replaced timed-out after 5 seconds\n"
     ]
    },
    {
     "name": "stdout",
     "output_type": "stream",
     "text": [
      "\u001b[1m\u001b[37mchuck2                  \u001b[m  Sun Oct 27 00:06:15 2024  \u001b[1m\u001b[30m535.183.01\u001b[m\n",
      "\u001b[36m[0]\u001b[m \u001b[34mNVIDIA A100-SXM4-80GB\u001b[m |\u001b[31m 33°C\u001b[m, \u001b[32m  0 %\u001b[m | \u001b[1m\u001b[33m48723\u001b[m / \u001b[33m81920\u001b[m MB | \u001b[1m\u001b[30mliranc6\u001b[m(\u001b[33m48714M\u001b[m)\n"
     ]
    },
    {
     "name": "stderr",
     "output_type": "stream",
     "text": [
      "creating_stats: 100%|██████████| 2/2 [00:05<00:00,  2.55s/it, time_elapsed=0:00:05]\n"
     ]
    },
    {
     "name": "stdout",
     "output_type": "stream",
     "text": [
      "loading model\n",
      "Successfully loaded model from specific_chpt_path\n"
     ]
    },
    {
     "name": "stderr",
     "output_type": "stream",
     "text": [
      "test_pbar:   0%|          | 0/1 [00:05<?, ?it/s]\n"
     ]
    },
    {
     "ename": "TypeError",
     "evalue": "can't convert cuda:0 device type tensor to numpy. Use Tensor.cpu() to copy the tensor to host memory first.",
     "output_type": "error",
     "traceback": [
      "\u001b[0;31m---------------------------------------------------------------------------\u001b[0m",
      "\u001b[0;31mTypeError\u001b[0m                                 Traceback (most recent call last)",
      "Cell \u001b[0;32mIn[88], line 12\u001b[0m\n\u001b[1;32m      9\u001b[0m torch\u001b[38;5;241m.\u001b[39mcuda\u001b[38;5;241m.\u001b[39mempty_cache()\n\u001b[1;32m     10\u001b[0m get_ipython()\u001b[38;5;241m.\u001b[39msystem(\u001b[38;5;124m'\u001b[39m\u001b[38;5;124m gpustat\u001b[39m\u001b[38;5;124m'\u001b[39m)\n\u001b[0;32m---> 12\u001b[0m \u001b[43mexp\u001b[49m\u001b[38;5;241;43m.\u001b[39;49m\u001b[43mtest\u001b[49m\u001b[43m(\u001b[49m\u001b[43msetting\u001b[49m\u001b[38;5;241;43m=\u001b[39;49m\u001b[43msetting\u001b[49m\u001b[43m,\u001b[49m\n\u001b[1;32m     13\u001b[0m \u001b[43m         \u001b[49m\u001b[43mtime_path\u001b[49m\u001b[38;5;241;43m=\u001b[39;49m\u001b[38;5;124;43m'\u001b[39;49m\u001b[38;5;124;43m09_10_2024_1612\u001b[39;49m\u001b[38;5;124;43m'\u001b[39;49m\u001b[43m,\u001b[49m\n\u001b[1;32m     14\u001b[0m \u001b[43m         \u001b[49m\u001b[43mtest\u001b[49m\u001b[43m \u001b[49m\u001b[38;5;241;43m=\u001b[39;49m\u001b[43m \u001b[49m\u001b[38;5;28;43;01mTrue\u001b[39;49;00m\u001b[43m,\u001b[49m\n\u001b[1;32m     15\u001b[0m \u001b[43m         \u001b[49m\u001b[43mvisualize\u001b[49m\u001b[43m \u001b[49m\u001b[38;5;241;43m=\u001b[39;49m\u001b[43m \u001b[49m\u001b[38;5;28;43;01mTrue\u001b[39;49;00m\u001b[43m,\u001b[49m\n\u001b[1;32m     16\u001b[0m \u001b[43m         \u001b[49m\u001b[43mchpt_path\u001b[49m\u001b[38;5;241;43m=\u001b[39;49m\u001b[43mresults_path\u001b[49m\n\u001b[1;32m     17\u001b[0m \u001b[43m         \u001b[49m\u001b[43m)\u001b[49m\n",
      "File \u001b[0;32m~/ecg_forecasting/liran_project/mrdiff/exp_main.py:543\u001b[0m, in \u001b[0;36mExp_Main.test\u001b[0;34m(self, setting, time_path, test, visualize, chpt_path)\u001b[0m\n\u001b[1;32m    540\u001b[0m pred \u001b[38;5;241m=\u001b[39m pred\u001b[38;5;241m.\u001b[39mpermute(\u001b[38;5;241m0\u001b[39m, \u001b[38;5;241m2\u001b[39m, \u001b[38;5;241m1\u001b[39m)\n\u001b[1;32m    541\u001b[0m true \u001b[38;5;241m=\u001b[39m true\u001b[38;5;241m.\u001b[39mpermute(\u001b[38;5;241m0\u001b[39m, \u001b[38;5;241m2\u001b[39m, \u001b[38;5;241m1\u001b[39m)\n\u001b[0;32m--> 543\u001b[0m his \u001b[38;5;241m=\u001b[39m \u001b[43mde_normalized\u001b[49m\u001b[43m(\u001b[49m\u001b[43mhis\u001b[49m\u001b[43m,\u001b[49m\u001b[43m \u001b[49m\u001b[43mtest_data\u001b[49m\u001b[38;5;241;43m.\u001b[39;49m\u001b[43mnormalize_method\u001b[49m\u001b[43m,\u001b[49m\u001b[43m \u001b[49m\u001b[43mtest_data\u001b[49m\u001b[38;5;241;43m.\u001b[39;49m\u001b[43mnorm_statistics\u001b[49m\u001b[43m)\u001b[49m\n\u001b[1;32m    544\u001b[0m pred \u001b[38;5;241m=\u001b[39m de_normalized(pred, test_data\u001b[38;5;241m.\u001b[39mnormalize_method, test_data\u001b[38;5;241m.\u001b[39mnorm_statistics)\n\u001b[1;32m    545\u001b[0m true \u001b[38;5;241m=\u001b[39m de_normalized(true, test_data\u001b[38;5;241m.\u001b[39mnormalize_method, test_data\u001b[38;5;241m.\u001b[39mnorm_statistics)\n",
      "File \u001b[0;32m~/ecg_forecasting/liran_project/utils/dataset_loader.py:322\u001b[0m, in \u001b[0;36mde_normalized\u001b[0;34m(data, normalize_method, norm_statistics)\u001b[0m\n\u001b[1;32m    305\u001b[0m \u001b[38;5;28;01mdef\u001b[39;00m \u001b[38;5;21mnormalized\u001b[39m(data, normalize_method, norm_statistics):\n\u001b[1;32m    306\u001b[0m \u001b[38;5;250m    \u001b[39m\u001b[38;5;124;03m\"\"\"\u001b[39;00m\n\u001b[1;32m    307\u001b[0m \u001b[38;5;124;03m    Normalize the given data using the specified normalization method.\u001b[39;00m\n\u001b[1;32m    308\u001b[0m \n\u001b[0;32m   (...)\u001b[0m\n\u001b[1;32m    320\u001b[0m \u001b[38;5;124;03m    array-like: The normalized data.\u001b[39;00m\n\u001b[1;32m    321\u001b[0m \u001b[38;5;124;03m    \"\"\"\u001b[39;00m\n\u001b[0;32m--> 322\u001b[0m     \u001b[38;5;28;01mif\u001b[39;00m normalize_method \u001b[38;5;241m==\u001b[39m \u001b[38;5;124m'\u001b[39m\u001b[38;5;124mmin_max\u001b[39m\u001b[38;5;124m'\u001b[39m:\n\u001b[1;32m    323\u001b[0m         scale \u001b[38;5;241m=\u001b[39m norm_statistics[\u001b[38;5;124m'\u001b[39m\u001b[38;5;124mmax\u001b[39m\u001b[38;5;124m'\u001b[39m] \u001b[38;5;241m-\u001b[39m norm_statistics[\u001b[38;5;124m'\u001b[39m\u001b[38;5;124mmin\u001b[39m\u001b[38;5;124m'\u001b[39m]\n\u001b[1;32m    324\u001b[0m         data \u001b[38;5;241m=\u001b[39m (data \u001b[38;5;241m-\u001b[39m norm_statistics[\u001b[38;5;124m'\u001b[39m\u001b[38;5;124mmin\u001b[39m\u001b[38;5;124m'\u001b[39m]) \u001b[38;5;241m/\u001b[39m scale\n",
      "File \u001b[0;32m~/miniconda3/envs/ecg/lib/python3.10/site-packages/torch/_tensor.py:1087\u001b[0m, in \u001b[0;36mTensor.__array__\u001b[0;34m(self, dtype)\u001b[0m\n\u001b[1;32m   1085\u001b[0m     \u001b[38;5;28;01mreturn\u001b[39;00m handle_torch_function(Tensor\u001b[38;5;241m.\u001b[39m__array__, (\u001b[38;5;28mself\u001b[39m,), \u001b[38;5;28mself\u001b[39m, dtype\u001b[38;5;241m=\u001b[39mdtype)\n\u001b[1;32m   1086\u001b[0m \u001b[38;5;28;01mif\u001b[39;00m dtype \u001b[38;5;129;01mis\u001b[39;00m \u001b[38;5;28;01mNone\u001b[39;00m:\n\u001b[0;32m-> 1087\u001b[0m     \u001b[38;5;28;01mreturn\u001b[39;00m \u001b[38;5;28;43mself\u001b[39;49m\u001b[38;5;241;43m.\u001b[39;49m\u001b[43mnumpy\u001b[49m\u001b[43m(\u001b[49m\u001b[43m)\u001b[49m\n\u001b[1;32m   1088\u001b[0m \u001b[38;5;28;01melse\u001b[39;00m:\n\u001b[1;32m   1089\u001b[0m     \u001b[38;5;28;01mreturn\u001b[39;00m \u001b[38;5;28mself\u001b[39m\u001b[38;5;241m.\u001b[39mnumpy()\u001b[38;5;241m.\u001b[39mastype(dtype, copy\u001b[38;5;241m=\u001b[39m\u001b[38;5;28;01mFalse\u001b[39;00m)\n",
      "\u001b[0;31mTypeError\u001b[0m: can't convert cuda:0 device type tensor to numpy. Use Tensor.cpu() to copy the tensor to host memory first."
     ]
    }
   ],
   "source": [
    "# Reload the module\n",
    "importlib.reload(liran_project.mrdiff.exp_main)\n",
    "import mrDiff.utils.tools\n",
    "importlib.reload(mrDiff.utils.tools)\n",
    "\n",
    "# Assuming `exp` is an existing instance of `Exp_Main`\n",
    "exp.__class__ = liran_project.mrdiff.exp_main.Exp_Main\n",
    "\n",
    "torch.cuda.empty_cache()\n",
    "! gpustat\n",
    "\n",
    "exp.test(setting=setting,\n",
    "         time_path='09_10_2024_1612',\n",
    "         test = True,\n",
    "         visualize = True,\n",
    "         chpt_path=results_path\n",
    "         )"
   ]
  },
  {
   "cell_type": "code",
   "execution_count": null,
   "metadata": {},
   "outputs": [],
   "source": []
  }
 ],
 "metadata": {
  "kernelspec": {
   "display_name": "ecg",
   "language": "python",
   "name": "python3"
  },
  "language_info": {
   "codemirror_mode": {
    "name": "ipython",
    "version": 3
   },
   "file_extension": ".py",
   "mimetype": "text/x-python",
   "name": "python",
   "nbconvert_exporter": "python",
   "pygments_lexer": "ipython3",
   "version": "3.10.13"
  }
 },
 "nbformat": 4,
 "nbformat_minor": 2
}
