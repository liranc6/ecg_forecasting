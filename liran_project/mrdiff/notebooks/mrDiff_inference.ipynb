{
 "cells": [
  {
   "cell_type": "code",
   "execution_count": 21,
   "metadata": {},
   "outputs": [],
   "source": [
    "import importlib\n",
    "import argparse\n",
    "import os\n",
    "import sys\n",
    "import time\n",
    "import wandb\n",
    "\n",
    "import torch\n",
    "import torch.nn as nn\n",
    "import torch.nn.functional as F\n",
    "from torch import optim\n",
    "from torch.optim import lr_scheduler\n",
    "from torch.utils.data import DataLoader\n",
    "\n",
    "import random\n",
    "import numpy as np\n",
    "import yaml\n",
    "from box import Box\n",
    "from pprint import pprint\n",
    "import wandb\n",
    "from tqdm import tqdm\n",
    "from datetime import timedelta\n",
    "from collections import defaultdict\n",
    "\n",
    "import warnings\n",
    "warnings.filterwarnings('ignore')\n",
    "\n",
    "import matplotlib.pyplot as plt\n",
    "import numpy as np\n",
    "\n",
    "from einops import rearrange, repeat\n",
    "from einops.layers.torch import Rearrange\n",
    "\n",
    "CONFIG_FILENAME = '/home/liranc6/ecg_forecasting/liran_project/mrdiff/src/config_ecg.yml'\n",
    "\n",
    "assert CONFIG_FILENAME.endswith('.yml')\n",
    "\n",
    "with open(CONFIG_FILENAME, 'r') as file:\n",
    "    config = yaml.safe_load(file)\n",
    "\n",
    "# Add the parent directory to the sys.path\n",
    "ProjectPath = config['project_path']\n",
    "sys.path.append(ProjectPath)\n",
    "\n",
    "import liran_project\n",
    "from liran_project.mrdiff.src.parser import parse_args\n",
    "from liran_project.utils.dataset_loader import SingleLeadECGDatasetCrops_mrDiff as DataSet\n",
    "from liran_project.utils.util import ecg_signal_difference\n",
    "from liran_project.mrdiff.exp_main import Exp_Main\n",
    "from liran_project.utils.common import *\n",
    "\n",
    "# Add the directory containing the exp module to the sys.path\n",
    "exp_module_path = os.path.join(ProjectPath, 'mrDiff')\n",
    "sys.path.append(exp_module_path)\n",
    "\n",
    "# from mrDiff.exp.exp_main import Exp_Main\n",
    "from mrDiff.data_process.etth_dataloader import Dataset_ETT_hour, Dataset_ETT_minute, Dataset_Custom, Dataset_Wind, Dataset_Caiso, Dataset_Production, Dataset_Caiso_M, Dataset_Production_M\n",
    "from mrDiff.data_process.financial_dataloader import DatasetH\n",
    "from mrDiff.data_process.forecast_dataloader import ForecastDataset\n",
    "from mrDiff.exp.exp_basic import Exp_Basic\n",
    "from mrDiff.models_diffusion import DDPM\n",
    "from mrDiff.utils.tools import EarlyStopping, adjust_learning_rate, visual\n",
    "from mrDiff.utils.metrics import metric\n",
    "\n",
    "from liran_project.mrdiff.src.parser import Args"
   ]
  },
  {
   "cell_type": "code",
   "execution_count": 22,
   "metadata": {},
   "outputs": [
    {
     "data": {
      "text/plain": [
       "{'configs_filename': '/home/liranc6/ecg_forecasting/liran_project/mrdiff/src/config_ecg.yml',\n",
       " 'configs': Box({'project_path': '/home/liranc6/ecg_forecasting', 'tqdm': 'terminal', 'resume_exp': {'resume': False, 'resume_from': False, 'resume_optimizer': True, 'resume_epoch': 'None', 'loss_and_metrics': True, 'resume_scheduler': True, 'resume_configuration': True, 'specific_chpt_path': '/home/liranc6/ecg_forecasting/liran_project/results/icentia11k/mrDiff/DDPM_icentia11k_ftS_sl10_ll105_pl30_lr0.001_bs8_invFalse_itr0/09_10_2024_1410/best_checkpoint.pth', 'was_resumed': False}, 'wandb': {'entity': 'liranc6', 'mode': 'online', 'project': 'mrdiff', 'resume': 'None', 'run_name': 'None', 'id': 'None', 'save_code': True, 'resume_from': 'None'}, 'general': {'random_seed': 42, 'evaluate': False, 'tag': None, 'dataset': 'icentia11k', 'features': 'S', 'training_mode': 'ONE', 'interval': 1000}, 'optimization': {'learning_rate': 0.001, 'batch_size': 8, 'test_batch_size': 8, 'patience': 10, 'weight_decay': 1e-05, 'lradj': '3', 'pct_start': 0.3}, 'hardware': {'print_gpu_memory_usage': False, 'num_workers': 0, 'use_gpu': True, 'gpu': 0, 'use_multi_gpu': False, 'devices': '0', 'device_ids': [0]}, 'paths': {'train_data': '/home/liranc6/data/with_R_beats/icentia11k-continuous-ecg_normal_sinus_subset_npArrays_splits/10minutes/train/p0_to_p32.h5', 'val_data': '/home/liranc6/data/with_R_beats/icentia11k-continuous-ecg_normal_sinus_subset_npArrays_splits/10minutes/val/p33_to_p39.h5', 'test_data': '/home/liranc6/data/with_R_beats/icentia11k-continuous-ecg_normal_sinus_subset_npArrays_splits/10minutes/test/p40_to_p46.h5', 'output_dir': '/home/liranc6/ecg_forecasting/liran_project/results/icentia11k/mrDiff', 'checkpoints': '/home/liranc6/ecg_forecasting/liran_project/results/icentia11k/mrDiff', 'model_path': 'None'}, 'data': {'fs': 250, 'freq': 'h', 'embed': 'timeF', 'cols': [], 'target': -1, 'inverse': False, 'individual': True, 'use_ar_init': False, 'use_residual': True, 'uncertainty': False, 'norm_method': 'None', 'normtype': 0, 'num_vars': 1}, 'training': {'logging': {'sample': False, 'log_interval': 5, 'save_interval': 1, 'save_best': True, 'save_dir': '/home/liranc6/ecg_forecasting/liran_project/results/icentia11k/mrDiff'}, 'patients': {'start_patient': 0, 'end_patient': 25}, 'iterations': {'itr': 1, 'pretrain_epochs': 0, 'train_epochs': 300, 'sample_times': 1}, 'identifiers': {'id_worst': -1, 'focus_variate': -1}, 'sequence': {'context_len': 10, 'seq_len': 135000, 'label_len': 105000, 'pred_len': 30000}, 'model_info': {'opt_loss_type': 'mse', 'model': 'DDPM', 'base_model': 'Linear', 'u_net_type': 'v0'}, 'analysis': {'vis_MTS_analysis': 0, 'use_window_normalization': True, 'use_future_mixup': True, 'use_X0_in_THiDi': False, 'channel_independence': False}, 'smoothing': {'smoothed_factors': [5, 25, 51]}, 'ode': {'ot_ode': True, 'beta_max': 1.0, 't0': '1e-4', 'T': 0.02, 'nfe': 20}, 'ablation_study': {'ablation_study_F_type': 'Linear', 'beta_schedule': 'cosine', 'beta_dist_alpha': -1, 'ablation_study_masking_type': 'none', 'ablation_study_masking_tau': 0.9}, 'diffusion': {'beta_start': 0.0001, 'beta_end': 0.02, 'diff_steps': 100, 'ddpm_inp_embed': 64, 'ddpm_layers_inp': 10, 'ddpm_dim_diff_steps': 256, 'ddpm_channels_conv': 128, 'ddpm_channels_fusion_I': 256, 'ddpm_layers_I': 5, 'ddpm_layers_II': 10, 'kernel_size': 25, 'dec_channel_nums': 256, 'cond_ddpm_num_layers': 5, 'cond_ddpm_channels_conv': 256}, 'sampler': {'type_sampler': 'dpm', 'parameterization': 'x_start', 'our_ddpm_clip': 100}, 'misc': {'affine': 0, 'subtract_last': 0, 'subtract_short_terms': 0}}, 'validation': {'patients': {'start_patient': 0, 'end_patient': 5}}, 'testing': {'patients': {'start_patient': 0, 'end_patient': 5}}, 'use_gpu': True})}"
      ]
     },
     "execution_count": 22,
     "metadata": {},
     "output_type": "execute_result"
    }
   ],
   "source": [
    "args = Args(CONFIG_FILENAME)\n",
    "\n",
    "# Now you can use args as needed\n",
    "vars(args)"
   ]
  },
  {
   "cell_type": "code",
   "execution_count": 23,
   "metadata": {},
   "outputs": [
    {
     "name": "stdout",
     "output_type": "stream",
     "text": [
      "Use GPU: cuda:0\n"
     ]
    }
   ],
   "source": [
    "exp = Exp_Main(args)"
   ]
  },
  {
   "cell_type": "code",
   "execution_count": 24,
   "metadata": {},
   "outputs": [],
   "source": [
    "results_path = \\\n",
    "    \"/home/liranc6/ecg_forecasting/liran_project/results/icentia11k/mrDiff/DDPM_icentia11k_ftS_sl10_ll105000_pl30000_lr0.001_bs8_invFalse_itr0/09_10_2024_1612/best_checkp_dtw_dist.pth\""
   ]
  },
  {
   "cell_type": "code",
   "execution_count": 25,
   "metadata": {},
   "outputs": [
    {
     "data": {
      "text/plain": [
       "Box({'resume': False, 'resume_from': False, 'resume_optimizer': True, 'resume_epoch': 'None', 'loss_and_metrics': True, 'resume_scheduler': True, 'resume_configuration': True, 'specific_chpt_path': '/home/liranc6/ecg_forecasting/liran_project/results/icentia11k/mrDiff/DDPM_icentia11k_ftS_sl10_ll105_pl30_lr0.001_bs8_invFalse_itr0/09_10_2024_1410/best_checkpoint.pth', 'was_resumed': False})"
      ]
     },
     "execution_count": 25,
     "metadata": {},
     "output_type": "execute_result"
    }
   ],
   "source": [
    "exp.args.resume_exp"
   ]
  },
  {
   "cell_type": "code",
   "execution_count": 26,
   "metadata": {},
   "outputs": [
    {
     "name": "stderr",
     "output_type": "stream",
     "text": [
      "1373.18s - pydevd: Sending message related to process being replaced timed-out after 5 seconds\n"
     ]
    },
    {
     "name": "stdout",
     "output_type": "stream",
     "text": [
      "\u001b[1m\u001b[37mnlp-2080-1                   \u001b[m  Wed Oct  9 21:18:33 2024  \u001b[1m\u001b[30m535.146.02\u001b[m\n",
      "\u001b[36m[0]\u001b[m \u001b[34mNVIDIA GeForce RTX 2080 Ti\u001b[m |\u001b[31m 30°C\u001b[m, \u001b[32m  0 %\u001b[m | \u001b[36m\u001b[1m\u001b[33m  518\u001b[m / \u001b[33m11264\u001b[m MB | \u001b[1m\u001b[30mliranc6\u001b[m(\u001b[33m262M\u001b[m)\n"
     ]
    }
   ],
   "source": [
    "# Reload the module\n",
    "importlib.reload(liran_project.mrdiff.exp_main)\n",
    "\n",
    "# Assuming `exp` is an existing instance of `Exp_Main`\n",
    "exp.__class__ = liran_project.mrdiff.exp_main.Exp_Main\n",
    "\n",
    "torch.cuda.empty_cache()\n",
    "! gpustat"
   ]
  },
  {
   "cell_type": "code",
   "execution_count": 27,
   "metadata": {},
   "outputs": [],
   "source": [
    "resume_configs = exp.args.resume_exp\n",
    "resume_configs['resume'] = True\n",
    "resume_configs['resume_configuration'] = True\n",
    "resume_configs['specific_chpt_path'] = results_path\n",
    "\n",
    "exp.args.update_config_from_dict(resume_configs)\n"
   ]
  },
  {
   "cell_type": "code",
   "execution_count": 28,
   "metadata": {},
   "outputs": [
    {
     "name": "stdout",
     "output_type": "stream",
     "text": [
      "Successfully loaded model from specific_chpt_path\n"
     ]
    },
    {
     "data": {
      "text/plain": [
       "7"
      ]
     },
     "execution_count": 28,
     "metadata": {},
     "output_type": "execute_result"
    }
   ],
   "source": [
    "iteration = exp.load_checkpoint(results_path)\n",
    "iteration"
   ]
  },
  {
   "cell_type": "code",
   "execution_count": null,
   "metadata": {},
   "outputs": [],
   "source": [
    "exp.args.testing.patients.end_patient = 1"
   ]
  },
  {
   "cell_type": "code",
   "execution_count": 29,
   "metadata": {},
   "outputs": [
    {
     "data": {
      "text/plain": [
       "'DDPM_icentia11k_ftS_sl10_ll105000_pl30000_lr0.001_bs8_invFalse_itr7'"
      ]
     },
     "execution_count": 29,
     "metadata": {},
     "output_type": "execute_result"
    }
   ],
   "source": [
    "# Convert Box object to dictionary\n",
    "config_dict = exp.args.configs\n",
    "\n",
    "# Access the configuration values using dictionary syntax\n",
    "random_seed = config_dict['general']['random_seed']\n",
    "tag = config_dict['general']['tag']\n",
    "dataset = config_dict['general']['dataset']\n",
    "features = config_dict['general']['features']\n",
    "\n",
    "learning_rate = config_dict['optimization']['learning_rate']\n",
    "batch_size = config_dict['optimization']['batch_size']\n",
    "\n",
    "context_len = config_dict['training']['sequence']['context_len']\n",
    "label_len = config_dict['training']['sequence']['label_len']\n",
    "model = config_dict['training']['model_info']['model']\n",
    "pred_len = config_dict['training']['sequence']['pred_len']\n",
    "iterations = config_dict['training']['iterations']['itr']\n",
    "\n",
    "inverse = config_dict['data']['inverse']\n",
    "\n",
    "setting = f\"{model}_{dataset}_ft{features}_sl{context_len}_ll{label_len}_pl{pred_len}_lr{learning_rate}_bs{batch_size}_inv{inverse}_itr{iteration}\"\n",
    "setting"
   ]
  },
  {
   "cell_type": "code",
   "execution_count": 30,
   "metadata": {},
   "outputs": [],
   "source": [
    "fix_seed = random_seed\n",
    "random.seed(fix_seed)\n",
    "torch.manual_seed(fix_seed)\n",
    "np.random.seed(fix_seed)"
   ]
  },
  {
   "cell_type": "code",
   "execution_count": 36,
   "metadata": {},
   "outputs": [],
   "source": [
    "exp.datasets, exp.dataloaders = {}, {}\n",
    "exp.args.testing.patients.end_patient = 1"
   ]
  },
  {
   "cell_type": "code",
   "execution_count": 37,
   "metadata": {},
   "outputs": [
    {
     "name": "stdout",
     "output_type": "stream",
     "text": [
      "loading model\n"
     ]
    },
    {
     "name": "stderr",
     "output_type": "stream",
     "text": [
      "test_pbar:   0%|          | 0/12 [00:00<?, ?it/s]"
     ]
    },
    {
     "name": "stdout",
     "output_type": "stream",
     "text": [
      "/home/liranc6/ecg_forecasting/liran_project/results/icentia11k/mrDiff/DDPM_icentia11k_ftS_sl10_ll105000_pl30000_lr0.001_bs8_invFalse_itr0/09_10_2024_1612/DDPM_icentia11k_ftS_sl10_ll105000_pl30000_lr0.001_bs8_invFalse_itr7/09_10_2024_2140/0.png\n"
     ]
    },
    {
     "name": "stderr",
     "output_type": "stream",
     "text": [
      "test_pbar:   8%|▊         | 1/12 [01:19<14:34, 79.52s/it, time_elapsed=9940.84 ms, batch=8, Steps=12]"
     ]
    },
    {
     "name": "stdout",
     "output_type": "stream",
     "text": [
      "/home/liranc6/ecg_forecasting/liran_project/results/icentia11k/mrDiff/DDPM_icentia11k_ftS_sl10_ll105000_pl30000_lr0.001_bs8_invFalse_itr0/09_10_2024_1612/DDPM_icentia11k_ftS_sl10_ll105000_pl30000_lr0.001_bs8_invFalse_itr7/09_10_2024_2140/1.png\n"
     ]
    },
    {
     "name": "stderr",
     "output_type": "stream",
     "text": [
      "test_pbar:  17%|█▋        | 2/12 [02:41<13:28, 80.81s/it, time_elapsed=20154.93 ms, batch=8, Steps=12]"
     ]
    },
    {
     "name": "stdout",
     "output_type": "stream",
     "text": [
      "/home/liranc6/ecg_forecasting/liran_project/results/icentia11k/mrDiff/DDPM_icentia11k_ftS_sl10_ll105000_pl30000_lr0.001_bs8_invFalse_itr0/09_10_2024_1612/DDPM_icentia11k_ftS_sl10_ll105000_pl30000_lr0.001_bs8_invFalse_itr7/09_10_2024_2140/2.png\n"
     ]
    },
    {
     "name": "stderr",
     "output_type": "stream",
     "text": [
      "test_pbar:  17%|█▋        | 2/12 [03:34<17:51, 107.17s/it, time_elapsed=20154.93 ms, batch=8, Steps=12]\n"
     ]
    },
    {
     "name": "stdout",
     "output_type": "stream",
     "text": [
      "Unexpected exception formatting exception. Falling back to standard exception\n"
     ]
    },
    {
     "name": "stderr",
     "output_type": "stream",
     "text": [
      "Traceback (most recent call last):\n",
      "  File \"/home/liranc6/miniconda3/envs/ecg/lib/python3.10/site-packages/IPython/core/interactiveshell.py\", line 3548, in run_code\n",
      "    exec(code_obj, self.user_global_ns, self.user_ns)\n",
      "  File \"/tmp/ipykernel_1779706/381972392.py\", line 1, in <module>\n",
      "    exp.test(setting=setting,\n",
      "  File \"/home/liranc6/ecg_forecasting/liran_project/mrdiff/exp_main.py\", line 557, in test\n",
      "    results.append_ecg_signal_difference(true, pred, self.args.data.fs)\n",
      "  File \"/home/liranc6/ecg_forecasting/liran_project/mrdiff/exp_main.py\", line 723, in append_ecg_signal_difference\n",
      "  File \"/home/liranc6/ecg_forecasting/liran_project/utils/util.py\", line 328, in ecg_signal_difference\n",
      "    _, info = nk.ecg_process(ecg_pred, sampling_rate=sampling_rate)\n",
      "  File \"/home/liranc6/miniconda3/envs/ecg/lib/python3.10/site-packages/neurokit2/ecg/ecg_process.py\", line 126, in ecg_process\n",
      "    delineate_signal, delineate_info = ecg_delineate(\n",
      "  File \"/home/liranc6/miniconda3/envs/ecg/lib/python3.10/site-packages/neurokit2/ecg/ecg_delineate.py\", line 164, in ecg_delineate\n",
      "    waves = _dwt_ecg_delineator(ecg_cleaned, rpeaks, sampling_rate=sampling_rate)\n",
      "  File \"/home/liranc6/miniconda3/envs/ecg/lib/python3.10/site-packages/neurokit2/ecg/ecg_delineate.py\", line 263, in _dwt_ecg_delineator\n",
      "    S_index, S = _ecg_delineator_peak_S(rpeak, heartbeat)\n",
      "  File \"/home/liranc6/miniconda3/envs/ecg/lib/python3.10/site-packages/neurokit2/ecg/ecg_delineate.py\", line 1047, in _ecg_delineator_peak_S\n",
      "    S = signal_findpeaks(\n",
      "  File \"/home/liranc6/miniconda3/envs/ecg/lib/python3.10/site-packages/neurokit2/signal/signal_findpeaks.py\", line 133, in signal_findpeaks\n",
      "    info[\"Offsets\"] = _signal_findpeaks_findbase(info[\"Peaks\"], signal, what=\"offset\")\n",
      "  File \"/home/liranc6/miniconda3/envs/ecg/lib/python3.10/site-packages/neurokit2/signal/signal_findpeaks.py\", line 228, in _signal_findpeaks_findbase\n",
      "    bases = find_closest(peaks, troughs, direction=direction, strictly=True)\n",
      "  File \"/home/liranc6/miniconda3/envs/ecg/lib/python3.10/site-packages/neurokit2/misc/find_closest.py\", line 53, in find_closest\n",
      "    out = [\n",
      "  File \"/home/liranc6/miniconda3/envs/ecg/lib/python3.10/site-packages/neurokit2/misc/find_closest.py\", line 54, in <listcomp>\n",
      "    _find_closest(i, list_to_search_in, direction, strictly, return_index) for i in closest_to\n",
      "  File \"/home/liranc6/miniconda3/envs/ecg/lib/python3.10/site-packages/neurokit2/misc/find_closest.py\", line 71, in _find_closest\n",
      "    index, closest = _find_closest_single_pandas(\n",
      "  File \"/home/liranc6/miniconda3/envs/ecg/lib/python3.10/site-packages/neurokit2/misc/find_closest.py\", line 118, in _find_closest_single_pandas\n",
      "    index = (vals[vals > x] - x).idxmin()\n",
      "  File \"/home/liranc6/miniconda3/envs/ecg/lib/python3.10/site-packages/pandas/core/ops/common.py\", line 72, in new_method\n",
      "    return method(self, other)\n",
      "  File \"/home/liranc6/miniconda3/envs/ecg/lib/python3.10/site-packages/pandas/core/arraylike.py\", line 110, in __sub__\n",
      "    return self._arith_method(other, operator.sub)\n",
      "  File \"/home/liranc6/miniconda3/envs/ecg/lib/python3.10/site-packages/pandas/core/series.py\", line 6259, in _arith_method\n",
      "    return base.IndexOpsMixin._arith_method(self, other, op)\n",
      "  File \"/home/liranc6/miniconda3/envs/ecg/lib/python3.10/site-packages/pandas/core/base.py\", line 1324, in _arith_method\n",
      "    with np.errstate(all=\"ignore\"):\n",
      "  File \"/home/liranc6/miniconda3/envs/ecg/lib/python3.10/site-packages/numpy/core/_ufunc_config.py\", line 435, in __exit__\n",
      "    def __exit__(self, *exc_info):\n",
      "KeyboardInterrupt\n",
      "\n",
      "During handling of the above exception, another exception occurred:\n",
      "\n",
      "Traceback (most recent call last):\n",
      "  File \"/home/liranc6/miniconda3/envs/ecg/lib/python3.10/site-packages/IPython/core/interactiveshell.py\", line 2142, in showtraceback\n",
      "    stb = self.InteractiveTB.structured_traceback(\n",
      "  File \"/home/liranc6/miniconda3/envs/ecg/lib/python3.10/site-packages/IPython/core/ultratb.py\", line 1435, in structured_traceback\n",
      "    return FormattedTB.structured_traceback(\n",
      "  File \"/home/liranc6/miniconda3/envs/ecg/lib/python3.10/site-packages/IPython/core/ultratb.py\", line 1326, in structured_traceback\n",
      "    return VerboseTB.structured_traceback(\n",
      "  File \"/home/liranc6/miniconda3/envs/ecg/lib/python3.10/site-packages/IPython/core/ultratb.py\", line 1173, in structured_traceback\n",
      "    formatted_exception = self.format_exception_as_a_whole(etype, evalue, etb, number_of_lines_of_context,\n",
      "  File \"/home/liranc6/miniconda3/envs/ecg/lib/python3.10/site-packages/IPython/core/ultratb.py\", line 1088, in format_exception_as_a_whole\n",
      "    frames.append(self.format_record(record))\n",
      "  File \"/home/liranc6/miniconda3/envs/ecg/lib/python3.10/site-packages/IPython/core/ultratb.py\", line 970, in format_record\n",
      "    frame_info.lines, Colors, self.has_colors, lvals\n",
      "  File \"/home/liranc6/miniconda3/envs/ecg/lib/python3.10/site-packages/IPython/core/ultratb.py\", line 792, in lines\n",
      "    return self._sd.lines\n",
      "  File \"/home/liranc6/miniconda3/envs/ecg/lib/python3.10/site-packages/stack_data/utils.py\", line 145, in cached_property_wrapper\n",
      "    value = obj.__dict__[self.func.__name__] = self.func(obj)\n",
      "  File \"/home/liranc6/miniconda3/envs/ecg/lib/python3.10/site-packages/stack_data/core.py\", line 734, in lines\n",
      "    pieces = self.included_pieces\n",
      "  File \"/home/liranc6/miniconda3/envs/ecg/lib/python3.10/site-packages/stack_data/utils.py\", line 145, in cached_property_wrapper\n",
      "    value = obj.__dict__[self.func.__name__] = self.func(obj)\n",
      "  File \"/home/liranc6/miniconda3/envs/ecg/lib/python3.10/site-packages/stack_data/core.py\", line 681, in included_pieces\n",
      "    pos = scope_pieces.index(self.executing_piece)\n",
      "  File \"/home/liranc6/miniconda3/envs/ecg/lib/python3.10/site-packages/stack_data/utils.py\", line 145, in cached_property_wrapper\n",
      "    value = obj.__dict__[self.func.__name__] = self.func(obj)\n",
      "  File \"/home/liranc6/miniconda3/envs/ecg/lib/python3.10/site-packages/stack_data/core.py\", line 660, in executing_piece\n",
      "    return only(\n",
      "  File \"/home/liranc6/miniconda3/envs/ecg/lib/python3.10/site-packages/executing/executing.py\", line 116, in only\n",
      "    raise NotOneValueFound('Expected one value, found 0')\n",
      "executing.executing.NotOneValueFound: Expected one value, found 0\n"
     ]
    }
   ],
   "source": [
    "exp.test(setting=setting,\n",
    "         time_path='09_10_2024_1612',\n",
    "         test = True,\n",
    "         visualize = True,\n",
    "         )"
   ]
  },
  {
   "cell_type": "code",
   "execution_count": null,
   "metadata": {},
   "outputs": [],
   "source": []
  }
 ],
 "metadata": {
  "kernelspec": {
   "display_name": "ecg",
   "language": "python",
   "name": "python3"
  },
  "language_info": {
   "codemirror_mode": {
    "name": "ipython",
    "version": 3
   },
   "file_extension": ".py",
   "mimetype": "text/x-python",
   "name": "python",
   "nbconvert_exporter": "python",
   "pygments_lexer": "ipython3",
   "version": "3.10.13"
  }
 },
 "nbformat": 4,
 "nbformat_minor": 2
}
